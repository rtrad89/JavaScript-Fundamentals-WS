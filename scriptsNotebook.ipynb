{
 "cells": [
  {
   "cell_type": "markdown",
   "id": "6328bad8",
   "metadata": {},
   "source": [
    "# JavaScript Fundamentals"
   ]
  },
  {
   "cell_type": "markdown",
   "id": "0c1a3f26",
   "metadata": {},
   "source": [
    "![JavaScript Logo](https://www.tutorialrepublic.com/lib/images/javascript-illustration.png)\n",
    "\n",
    "Main sources: [Mozilla](https://developer.mozilla.org/en-US/docs/Learn/Getting_started_with_the_web/JavaScript_basics), [The Modern JavaScript Tutorial](https://javascript.info/)."
   ]
  },
  {
   "cell_type": "markdown",
   "id": "b9ca9f54",
   "metadata": {},
   "source": [
    "## Comments and Logging in JS"
   ]
  },
  {
   "cell_type": "code",
   "execution_count": null,
   "id": "6d545d64",
   "metadata": {},
   "outputs": [],
   "source": [
    "// this is a single-line comment\n",
    "console.log(\"Hello\");\n",
    "/* This is a \n",
    "multiline\n",
    "comment */\n",
    "console.log(\"Hello again!\");"
   ]
  },
  {
   "cell_type": "markdown",
   "id": "5acc783b",
   "metadata": {},
   "source": [
    "## Defining Variables"
   ]
  },
  {
   "cell_type": "markdown",
   "id": "7996a02a",
   "metadata": {},
   "source": [
    "There are two limitations on variable names in JavaScript [[src]](https://javascript.info/variables#variable-naming):\n",
    "- The name must contain only letters, digits, or the symbols `$` and `_`.\n",
    "- The first character must not be a digit."
   ]
  },
  {
   "cell_type": "markdown",
   "id": "19afcf77",
   "metadata": {},
   "source": [
    "Primitive variables in JS are of types:\n",
    " - `Boolean`\n",
    " - `Number` and `BigInt`\n",
    " - `String`\n",
    " - `Nulls`: intentional absence of value\n",
    " - `Undefined`: unintntional absence of value, like forgetting to assign a value\n",
    " - `Symbol`, `function`\n",
    "\n",
    "Apart from that, everything is an `Object` where there's a bit more complexity."
   ]
  },
  {
   "cell_type": "markdown",
   "id": "522cc9d2",
   "metadata": {},
   "source": [
    "Defining a variable is done using `let` and `const`. Traditionally, `var` was used, but forget about it for now."
   ]
  },
  {
   "cell_type": "code",
   "execution_count": null,
   "id": "c3da155b",
   "metadata": {},
   "outputs": [],
   "source": [
    "let x = true, y, z=null;\n",
    "typeof(x);"
   ]
  },
  {
   "cell_type": "code",
   "execution_count": null,
   "id": "e93b3452",
   "metadata": {},
   "outputs": [],
   "source": [
    "typeof x;"
   ]
  },
  {
   "cell_type": "code",
   "execution_count": null,
   "id": "77dd7cba",
   "metadata": {},
   "outputs": [],
   "source": [
    "x = \"Hello all\";\n",
    "typeof(x);"
   ]
  },
  {
   "cell_type": "code",
   "execution_count": null,
   "id": "163a7d5c",
   "metadata": {},
   "outputs": [],
   "source": [
    "typeof(y);"
   ]
  },
  {
   "cell_type": "code",
   "execution_count": null,
   "id": "27b28268",
   "metadata": {},
   "outputs": [],
   "source": [
    "typeof(z);"
   ]
  },
  {
   "cell_type": "code",
   "execution_count": null,
   "id": "ac0ef60f",
   "metadata": {},
   "outputs": [],
   "source": [
    "typeof(newVar)"
   ]
  },
  {
   "cell_type": "code",
   "execution_count": null,
   "id": "ae07b273",
   "metadata": {},
   "outputs": [],
   "source": [
    "x = 3;\n",
    "typeof(3);"
   ]
  },
  {
   "cell_type": "code",
   "execution_count": null,
   "id": "f121bb47",
   "metadata": {},
   "outputs": [],
   "source": [
    "x = 3n;\n",
    "typeof(x);"
   ]
  },
  {
   "cell_type": "code",
   "execution_count": null,
   "id": "7f12fa4d",
   "metadata": {},
   "outputs": [],
   "source": [
    "typeof(typeof(3));"
   ]
  },
  {
   "cell_type": "code",
   "execution_count": null,
   "id": "ab2d6f74",
   "metadata": {},
   "outputs": [],
   "source": [
    "typeof [1, 4, 6];"
   ]
  },
  {
   "cell_type": "code",
   "execution_count": null,
   "id": "38876045",
   "metadata": {},
   "outputs": [],
   "source": [
    "let I = \"I\",\n",
    "    love = \"Love\",\n",
    "    pizza = \"Pizza\",\n",
    "    _ = \"underscore\",\n",
    "    $ = \"money\";\n",
    "love;"
   ]
  },
  {
   "cell_type": "markdown",
   "id": "c8f9bb5d",
   "metadata": {},
   "source": [
    "Variable names are case-sensitive and they mustn't be a reserved word.\n",
    "What about `const`? it defines constant variables:"
   ]
  },
  {
   "cell_type": "code",
   "execution_count": null,
   "id": "e69ea002",
   "metadata": {},
   "outputs": [],
   "source": [
    "const myVar = \"Hello\";\n",
    "myVar;"
   ]
  },
  {
   "cell_type": "code",
   "execution_count": null,
   "id": "b65524f8",
   "metadata": {},
   "outputs": [],
   "source": [
    "myVar = \"Bye\";"
   ]
  },
  {
   "cell_type": "code",
   "execution_count": null,
   "id": "bdf886bd",
   "metadata": {},
   "outputs": [],
   "source": [
    "myvar;"
   ]
  },
  {
   "cell_type": "markdown",
   "id": "12750647",
   "metadata": {},
   "source": [
    "### Moving Between Variables"
   ]
  },
  {
   "cell_type": "markdown",
   "id": "c8eac999",
   "metadata": {},
   "source": [
    "By usage of the corresponding functions:\n",
    "- `Boolean(.)`\n",
    "- `Number(.)`, `BigInt(.)`\n",
    "- `String(.)`"
   ]
  },
  {
   "cell_type": "code",
   "execution_count": null,
   "id": "a5dcb908",
   "metadata": {
    "scrolled": true
   },
   "outputs": [],
   "source": [
    "typeof 4;"
   ]
  },
  {
   "cell_type": "code",
   "execution_count": null,
   "id": "ffa9f196",
   "metadata": {},
   "outputs": [],
   "source": [
    "typeof BigInt(4);"
   ]
  },
  {
   "cell_type": "code",
   "execution_count": null,
   "id": "4fec7544",
   "metadata": {},
   "outputs": [],
   "source": [
    "typeof 4n;"
   ]
  },
  {
   "cell_type": "code",
   "execution_count": null,
   "id": "e67270c3",
   "metadata": {},
   "outputs": [],
   "source": [
    "String(4);"
   ]
  },
  {
   "cell_type": "code",
   "execution_count": null,
   "id": "3c91686e",
   "metadata": {},
   "outputs": [],
   "source": [
    "typeof String(4);"
   ]
  },
  {
   "cell_type": "code",
   "execution_count": null,
   "id": "51effad8",
   "metadata": {},
   "outputs": [],
   "source": [
    "/*  If the value is omitted or is 0, -0, null, false, NaN, undefined, or the empty string (\"\")\n",
    "the object has an initial value of false */\n",
    "Boolean(\"true\");"
   ]
  },
  {
   "cell_type": "code",
   "execution_count": null,
   "id": "97be6bf4",
   "metadata": {},
   "outputs": [],
   "source": [
    "Boolean(\"false\");"
   ]
  },
  {
   "cell_type": "code",
   "execution_count": null,
   "id": "1fb476d8",
   "metadata": {},
   "outputs": [],
   "source": [
    "Boolean([]);"
   ]
  },
  {
   "cell_type": "code",
   "execution_count": null,
   "id": "7fea5181",
   "metadata": {},
   "outputs": [],
   "source": [
    "Boolean();"
   ]
  },
  {
   "cell_type": "markdown",
   "id": "ca9a8d4f",
   "metadata": {},
   "source": [
    "## Operators on Variables"
   ]
  },
  {
   "cell_type": "markdown",
   "id": "f30e6647",
   "metadata": {},
   "source": [
    "#### Addition or concatenation `+`"
   ]
  },
  {
   "cell_type": "code",
   "execution_count": null,
   "id": "047c6b7a",
   "metadata": {},
   "outputs": [],
   "source": [
    "5 + 5"
   ]
  },
  {
   "cell_type": "code",
   "execution_count": null,
   "id": "28e063cc",
   "metadata": {},
   "outputs": [],
   "source": [
    "5 + \"9\""
   ]
  },
  {
   "cell_type": "code",
   "execution_count": null,
   "id": "3595eb89",
   "metadata": {},
   "outputs": [],
   "source": [
    "\"6\" + \"5\""
   ]
  },
  {
   "cell_type": "code",
   "execution_count": null,
   "id": "e0078041",
   "metadata": {},
   "outputs": [],
   "source": [
    "+2;"
   ]
  },
  {
   "cell_type": "code",
   "execution_count": null,
   "id": "75194681",
   "metadata": {},
   "outputs": [],
   "source": [
    "+true;"
   ]
  },
  {
   "cell_type": "code",
   "execution_count": null,
   "id": "75c2ce25",
   "metadata": {},
   "outputs": [],
   "source": [
    "+\"\";"
   ]
  },
  {
   "cell_type": "code",
   "execution_count": null,
   "id": "7b1b6cb2",
   "metadata": {},
   "outputs": [],
   "source": [
    "// We saw that:\n",
    "\"4\" + \"55\";"
   ]
  },
  {
   "cell_type": "code",
   "execution_count": null,
   "id": "6211eb9a",
   "metadata": {},
   "outputs": [],
   "source": [
    "// What about:\n",
    "+\"4\" + +\"55\";"
   ]
  },
  {
   "cell_type": "markdown",
   "id": "7446ce8f",
   "metadata": {},
   "source": [
    "#### Subtraction `-`"
   ]
  },
  {
   "cell_type": "code",
   "execution_count": null,
   "id": "8c1c750e",
   "metadata": {},
   "outputs": [],
   "source": [
    "3 - 2"
   ]
  },
  {
   "cell_type": "code",
   "execution_count": null,
   "id": "b50f3733",
   "metadata": {},
   "outputs": [],
   "source": [
    "x = -3;\n",
    "x"
   ]
  },
  {
   "cell_type": "code",
   "execution_count": 29,
   "id": "052d1c82",
   "metadata": {},
   "outputs": [
    {
     "data": {
      "text/plain": [
       "-0"
      ]
     },
     "execution_count": 29,
     "metadata": {},
     "output_type": "execute_result"
    }
   ],
   "source": [
    "-\"\";"
   ]
  },
  {
   "cell_type": "code",
   "execution_count": null,
   "id": "21819dba",
   "metadata": {},
   "outputs": [],
   "source": [
    "\"3\" - \"2\""
   ]
  },
  {
   "cell_type": "code",
   "execution_count": null,
   "id": "f9820037",
   "metadata": {},
   "outputs": [],
   "source": [
    "3 - \"2\""
   ]
  },
  {
   "cell_type": "code",
   "execution_count": null,
   "id": "fcfb3bf5",
   "metadata": {},
   "outputs": [],
   "source": [
    "\"3\" - 2"
   ]
  },
  {
   "cell_type": "markdown",
   "id": "bba88185",
   "metadata": {},
   "source": [
    "So watch out.. JS is a dynamic programming language!\n",
    "> A dynamic programming language is a programming language in which operations otherwise done at compile-time can be done at run-time. For example, in JavaScript **it is possible to change the type of a variable** or add new properties or methods to an object **while the program is running**\n",
    "[source](https://developer.mozilla.org/en-US/docs/Glossary/Dynamic_programming_language)"
   ]
  },
  {
   "cell_type": "markdown",
   "id": "d29a0554",
   "metadata": {},
   "source": [
    "« **If in doubt, test it out** »"
   ]
  },
  {
   "cell_type": "markdown",
   "id": "ce1b0a80",
   "metadata": {},
   "source": [
    "#### Multiplication `*` and  division `/`"
   ]
  },
  {
   "cell_type": "code",
   "execution_count": null,
   "id": "90a0f3e0",
   "metadata": {},
   "outputs": [],
   "source": [
    "4 * \"4\";"
   ]
  },
  {
   "cell_type": "code",
   "execution_count": null,
   "id": "bd4b959c",
   "metadata": {},
   "outputs": [],
   "source": [
    "\"5\" * \"6\";"
   ]
  },
  {
   "cell_type": "code",
   "execution_count": null,
   "id": "17d82752",
   "metadata": {},
   "outputs": [],
   "source": [
    "56 / 3;"
   ]
  },
  {
   "cell_type": "code",
   "execution_count": null,
   "id": "bae4f883",
   "metadata": {},
   "outputs": [],
   "source": [
    "43 / \"ds\";"
   ]
  },
  {
   "cell_type": "code",
   "execution_count": null,
   "id": "70d9254b",
   "metadata": {},
   "outputs": [],
   "source": [
    "55 / 0;"
   ]
  },
  {
   "cell_type": "code",
   "execution_count": null,
   "id": "2a36575d",
   "metadata": {},
   "outputs": [],
   "source": [
    "44 / -0;"
   ]
  },
  {
   "cell_type": "code",
   "execution_count": null,
   "id": "ad99bab4",
   "metadata": {},
   "outputs": [],
   "source": [
    "\"Hi\" / 5;"
   ]
  },
  {
   "cell_type": "code",
   "execution_count": null,
   "id": "ba7b133a",
   "metadata": {},
   "outputs": [],
   "source": [
    "// Brace yourselves for some \"dynamicity\"...\n",
    "typeof(NaN);"
   ]
  },
  {
   "cell_type": "markdown",
   "id": "bfdcf1a1",
   "metadata": {},
   "source": [
    "Final note: there is precedence among these operators, very similar to what we saw in Python workshop. Have a look at [this](https://developer.mozilla.org/en-US/docs/Web/JavaScript/Reference/Operators/Operator_Precedence) if you want."
   ]
  },
  {
   "cell_type": "markdown",
   "id": "e3e4e830",
   "metadata": {},
   "source": [
    "#### Increment `++` and Decrement `--`"
   ]
  },
  {
   "cell_type": "markdown",
   "id": "80bcf60e",
   "metadata": {},
   "source": [
    "*Heavily used in loops*.\n",
    "Add / subtract 1 to/from a variable:"
   ]
  },
  {
   "cell_type": "code",
   "execution_count": 8,
   "id": "b7570ee0",
   "metadata": {},
   "outputs": [
    {
     "name": "stdout",
     "output_type": "stream",
     "text": [
      "i =  1 ; j =  0\n"
     ]
    }
   ],
   "source": [
    " i = 1, j=0;\n",
    "console.log(\"i = \", i, \"; j = \", j);"
   ]
  },
  {
   "cell_type": "code",
   "execution_count": 9,
   "id": "0f9844fb",
   "metadata": {},
   "outputs": [
    {
     "name": "stdout",
     "output_type": "stream",
     "text": [
      "i =  2 ; j =  2\n"
     ]
    }
   ],
   "source": [
    "j = ++i;\n",
    "console.log(\"i = \", i, \"; j = \", j);"
   ]
  },
  {
   "cell_type": "code",
   "execution_count": 10,
   "id": "a53b9a67",
   "metadata": {},
   "outputs": [
    {
     "name": "stdout",
     "output_type": "stream",
     "text": [
      "i =  1 ; j =  1\n"
     ]
    }
   ],
   "source": [
    "j = --i;\n",
    "console.log(\"i = \", i, \"; j = \", j);"
   ]
  },
  {
   "cell_type": "code",
   "execution_count": 11,
   "id": "05f8079c",
   "metadata": {},
   "outputs": [
    {
     "name": "stdout",
     "output_type": "stream",
     "text": [
      "i =  2 ; j =  1\n"
     ]
    }
   ],
   "source": [
    "j = i++;\n",
    "console.log(\"i = \", i, \"; j = \", j);"
   ]
  },
  {
   "cell_type": "code",
   "execution_count": 12,
   "id": "f7b347fa",
   "metadata": {},
   "outputs": [
    {
     "name": "stdout",
     "output_type": "stream",
     "text": [
      "i =  1 ; j =  0\n"
     ]
    }
   ],
   "source": [
    "i = j--;\n",
    "console.log(\"i = \", i, \"; j = \", j);"
   ]
  },
  {
   "cell_type": "markdown",
   "id": "d5ebaf2c",
   "metadata": {},
   "source": [
    "My take: use the prefix form unless you really need the postfix form."
   ]
  },
  {
   "cell_type": "markdown",
   "id": "e4b49d08",
   "metadata": {},
   "source": [
    "## Comparisons and Conditionals"
   ]
  },
  {
   "cell_type": "markdown",
   "id": "95abac57",
   "metadata": {},
   "source": [
    "### `=` or `==` or `===` ?!"
   ]
  },
  {
   "cell_type": "markdown",
   "id": "b8a05af9",
   "metadata": {},
   "source": [
    "JS says:\n",
    "- `=` is for assignment\n",
    "- `==` is for \"loose\" equality checks\n",
    "- `===` is for \"strict\" equality checks"
   ]
  },
  {
   "cell_type": "code",
   "execution_count": null,
   "id": "56be0028",
   "metadata": {},
   "outputs": [],
   "source": [
    "5 = 4;"
   ]
  },
  {
   "cell_type": "code",
   "execution_count": null,
   "id": "fab555d5",
   "metadata": {},
   "outputs": [],
   "source": [
    "let a, b, c;\n",
    "\n",
    "a = b = c = 6;\n",
    "console.log(a, \",\", b, \",\", c);"
   ]
  },
  {
   "cell_type": "code",
   "execution_count": null,
   "id": "1cad8906",
   "metadata": {},
   "outputs": [],
   "source": [
    "5 == 4;"
   ]
  },
  {
   "cell_type": "code",
   "execution_count": null,
   "id": "4ac46087",
   "metadata": {},
   "outputs": [],
   "source": [
    "5 == 5;"
   ]
  },
  {
   "cell_type": "code",
   "execution_count": null,
   "id": "e347e69e",
   "metadata": {},
   "outputs": [],
   "source": [
    "5 == \"5\";"
   ]
  },
  {
   "cell_type": "code",
   "execution_count": null,
   "id": "72cc6be6",
   "metadata": {},
   "outputs": [],
   "source": [
    "5 === \"5\";"
   ]
  },
  {
   "cell_type": "markdown",
   "id": "cf2c468c",
   "metadata": {},
   "source": [
    "##### The case with `null` and `undefined`"
   ]
  },
  {
   "cell_type": "markdown",
   "id": "9272f99f",
   "metadata": {},
   "source": [
    "There's a strict equality check that's above anything else:\n",
    "> the values `null` and `undefined` loosely equal each other and do not equal any other value [src](https://javascript.info/comparison#strange-result-null-vs-0)"
   ]
  },
  {
   "cell_type": "code",
   "execution_count": 21,
   "id": "1e05e779",
   "metadata": {},
   "outputs": [
    {
     "data": {
      "text/plain": [
       "true"
      ]
     },
     "execution_count": 21,
     "metadata": {},
     "output_type": "execute_result"
    }
   ],
   "source": [
    "null == undefined;"
   ]
  },
  {
   "cell_type": "code",
   "execution_count": 15,
   "id": "503082c3",
   "metadata": {},
   "outputs": [
    {
     "data": {
      "text/plain": [
       "false"
      ]
     },
     "execution_count": 15,
     "metadata": {},
     "output_type": "execute_result"
    }
   ],
   "source": [
    "// But... still\n",
    "null === undefined;"
   ]
  },
  {
   "cell_type": "markdown",
   "id": "a6bebbf5",
   "metadata": {},
   "source": [
    "`>`, `<`, `>=`, `<=` are straightforward, **you probably do not want to compare anything with null/undefined variables!**.. see:"
   ]
  },
  {
   "cell_type": "code",
   "execution_count": 18,
   "id": "b78601e5",
   "metadata": {},
   "outputs": [
    {
     "data": {
      "text/plain": [
       "false"
      ]
     },
     "execution_count": 18,
     "metadata": {},
     "output_type": "execute_result"
    }
   ],
   "source": [
    "null == 0;"
   ]
  },
  {
   "cell_type": "code",
   "execution_count": 20,
   "id": "a3e27209",
   "metadata": {},
   "outputs": [
    {
     "data": {
      "text/plain": [
       "false"
      ]
     },
     "execution_count": 20,
     "metadata": {},
     "output_type": "execute_result"
    }
   ],
   "source": [
    "null > 0;"
   ]
  },
  {
   "cell_type": "code",
   "execution_count": 23,
   "id": "7be988d1",
   "metadata": {},
   "outputs": [
    {
     "data": {
      "text/plain": [
       "true"
      ]
     },
     "execution_count": 23,
     "metadata": {},
     "output_type": "execute_result"
    }
   ],
   "source": [
    "// Since this is not an equality check , null would be \"carelessly\" converted to a 0 by >=\n",
    "null >= 0;"
   ]
  },
  {
   "cell_type": "markdown",
   "id": "5176f849",
   "metadata": {},
   "source": [
    "*Rule of thumb: if using variables that might be null/undefined, and you have to use `<`/`>` comparisons with them, it's a good idea to check and see of they are null or underfined first.*"
   ]
  },
  {
   "cell_type": "markdown",
   "id": "8d4dd135",
   "metadata": {},
   "source": [
    "#### Negation `!`"
   ]
  },
  {
   "cell_type": "code",
   "execution_count": null,
   "id": "756fadb1",
   "metadata": {},
   "outputs": [],
   "source": [
    "5 != 4;"
   ]
  },
  {
   "cell_type": "code",
   "execution_count": null,
   "id": "9f41737a",
   "metadata": {},
   "outputs": [],
   "source": [
    "5 !== 4;"
   ]
  },
  {
   "cell_type": "code",
   "execution_count": null,
   "id": "70d5bd35",
   "metadata": {},
   "outputs": [],
   "source": [
    "5 != \"5\";"
   ]
  },
  {
   "cell_type": "code",
   "execution_count": null,
   "id": "d9bfe31b",
   "metadata": {},
   "outputs": [],
   "source": [
    "5 !== \"5\";"
   ]
  },
  {
   "cell_type": "code",
   "execution_count": null,
   "id": "748b9f2e",
   "metadata": {},
   "outputs": [],
   "source": [
    "!5 == 4;"
   ]
  },
  {
   "cell_type": "code",
   "execution_count": null,
   "id": "31716ae2",
   "metadata": {},
   "outputs": [],
   "source": [
    "!(5 == 4);"
   ]
  },
  {
   "cell_type": "code",
   "execution_count": null,
   "id": "75012631",
   "metadata": {},
   "outputs": [],
   "source": [
    "!!(5 === 4);"
   ]
  },
  {
   "cell_type": "markdown",
   "id": "2b2e0cca",
   "metadata": {},
   "source": [
    "#### AND `&&` and OR `||`"
   ]
  },
  {
   "cell_type": "code",
   "execution_count": 26,
   "id": "dda40df5",
   "metadata": {},
   "outputs": [
    {
     "ename": "SyntaxError",
     "evalue": "Invalid left-hand side in assignment",
     "output_type": "error",
     "traceback": [
      "evalmachine.<anonymous>:1",
      "(5 > 0) && (0 < 3) || (4 = 4) && (6 === 6);",
      "                       ^",
      "",
      "SyntaxError: Invalid left-hand side in assignment",
      "    at new Script (vm.js:102:7)",
      "    at createScript (vm.js:262:10)",
      "    at Object.runInThisContext (vm.js:310:10)",
      "    at run ([eval]:1054:15)",
      "    at onRunRequest ([eval]:888:18)",
      "    at onMessage ([eval]:848:13)",
      "    at process.emit (events.js:400:28)",
      "    at emit (internal/child_process.js:912:12)",
      "    at processTicksAndRejections (internal/process/task_queues.js:83:21)"
     ]
    }
   ],
   "source": [
    "(5 > 0) && (0 < 3) || (4 = 4) && (6 === 6);"
   ]
  },
  {
   "cell_type": "code",
   "execution_count": 27,
   "id": "f7a50488",
   "metadata": {},
   "outputs": [
    {
     "data": {
      "text/plain": [
       "true"
      ]
     },
     "execution_count": 27,
     "metadata": {},
     "output_type": "execute_result"
    }
   ],
   "source": [
    "(5 > 0) && (0 < 3) || (4 == 4) && (6 === 6);"
   ]
  },
  {
   "cell_type": "markdown",
   "id": "3b73e3c7",
   "metadata": {},
   "source": [
    "To note: `&&` takes precedence over `||`."
   ]
  },
  {
   "cell_type": "markdown",
   "id": "af7d14aa",
   "metadata": {},
   "source": [
    "### Using `if` in JS"
   ]
  },
  {
   "cell_type": "code",
   "execution_count": 4,
   "id": "a9848594",
   "metadata": {},
   "outputs": [
    {
     "ename": "SyntaxError",
     "evalue": "Identifier 'age' has already been declared",
     "output_type": "error",
     "traceback": [
      "evalmachine.<anonymous>:1",
      "let age, underage;",
      "^",
      "",
      "SyntaxError: Identifier 'age' has already been declared",
      "    at Script.runInThisContext (vm.js:134:12)",
      "    at Object.runInThisContext (vm.js:310:38)",
      "    at run ([eval]:1054:15)",
      "    at onRunRequest ([eval]:888:18)",
      "    at onMessage ([eval]:848:13)",
      "    at process.emit (events.js:400:28)",
      "    at emit (internal/child_process.js:912:12)",
      "    at processTicksAndRejections (internal/process/task_queues.js:83:21)"
     ]
    }
   ],
   "source": [
    "let age, underage;"
   ]
  },
  {
   "cell_type": "code",
   "execution_count": 11,
   "id": "72db5c5d",
   "metadata": {},
   "outputs": [
    {
     "data": {
      "text/plain": [
       "true"
      ]
     },
     "execution_count": 11,
     "metadata": {},
     "output_type": "execute_result"
    }
   ],
   "source": [
    "age = 12;\n",
    "underage = age <18;"
   ]
  },
  {
   "cell_type": "code",
   "execution_count": 9,
   "id": "d01d8ca7",
   "metadata": {},
   "outputs": [
    {
     "name": "stdout",
     "output_type": "stream",
     "text": [
      "Just be careful on the road; your age is 19\n"
     ]
    }
   ],
   "source": [
    "if(underage) {\n",
    "    console.log(\"You are not allowed to drive, your age is \" + age);\n",
    "}\n",
    "else if (age == \"18\") {\n",
    "    console.log(\"You are BARELY allowed to drive\");\n",
    "}\n",
    "else {\n",
    "    console.log(`Just be careful on the road; your age is ${age}.`);\n",
    "}"
   ]
  },
  {
   "cell_type": "markdown",
   "id": "0784ff91",
   "metadata": {},
   "source": [
    "### Enter the `switch`"
   ]
  },
  {
   "cell_type": "markdown",
   "id": "ea9526d3",
   "metadata": {},
   "source": [
    "Writing `if` and `else` over and over again is cumbersome. JS offers us a neater way called `switch`!"
   ]
  },
  {
   "cell_type": "code",
   "execution_count": null,
   "id": "e6223913",
   "metadata": {},
   "outputs": [],
   "source": [
    "let month;"
   ]
  },
  {
   "cell_type": "code",
   "execution_count": 75,
   "id": "66663470",
   "metadata": {},
   "outputs": [
    {
     "name": "stdout",
     "output_type": "stream",
     "text": [
      "Autumn\n"
     ]
    }
   ],
   "source": [
    "// Let's figure out the season of that month?\n",
    "month = 11;\n",
    "\n",
    "if(month === 1 || month === 2 || month === 12)\n",
    "    console.log(\"Winter\");\n",
    "else if (month === 3 || month === 4 || month === 5)\n",
    "    console.log(\"Spring\");\n",
    "else if (month === 6 || month === 7 || month === 8)\n",
    "    console.log(\"Summer\");\n",
    "else\n",
    "    console.log(\"Autumn\");"
   ]
  },
  {
   "cell_type": "markdown",
   "id": "f2281e35",
   "metadata": {},
   "source": [
    "Or:"
   ]
  },
  {
   "cell_type": "code",
   "execution_count": 76,
   "id": "eaf08572",
   "metadata": {},
   "outputs": [
    {
     "name": "stdout",
     "output_type": "stream",
     "text": [
      "Autumn\n"
     ]
    }
   ],
   "source": [
    "switch(month) {\n",
    "    case 12:\n",
    "    case 1:\n",
    "    case 2:\n",
    "        console.log(\"Winter\");\n",
    "        break;\n",
    "    case 3:\n",
    "    case 4:\n",
    "    case 5:\n",
    "        console.log(\"Spring\");\n",
    "        break;\n",
    "    case 6:\n",
    "    case 7:\n",
    "    case 8:\n",
    "        console.log(\"Summer\");\n",
    "        break;\n",
    "    default:\n",
    "        console.log(\"Autumn\");\n",
    "}"
   ]
  },
  {
   "cell_type": "markdown",
   "id": "348dc9d8",
   "metadata": {},
   "source": [
    "- **NOTE 01: case checks use `===` and not `==`!**\n",
    "- **NOTE 02: case will execute EVERYTHING once it fires! that's why we need `break;`**"
   ]
  },
  {
   "cell_type": "code",
   "execution_count": 46,
   "id": "795c003d",
   "metadata": {},
   "outputs": [
    {
     "ename": "SyntaxError",
     "evalue": "Identifier 'switchAge' has already been declared",
     "output_type": "error",
     "traceback": [
      "evalmachine.<anonymous>:1",
      "let switchAge;",
      "^",
      "",
      "SyntaxError: Identifier 'switchAge' has already been declared",
      "    at Script.runInThisContext (vm.js:134:12)",
      "    at Object.runInThisContext (vm.js:310:38)",
      "    at run ([eval]:1054:15)",
      "    at onRunRequest ([eval]:888:18)",
      "    at onMessage ([eval]:848:13)",
      "    at process.emit (events.js:400:28)",
      "    at emit (internal/child_process.js:912:12)",
      "    at processTicksAndRejections (internal/process/task_queues.js:83:21)"
     ]
    }
   ],
   "source": [
    "let switchAge;"
   ]
  },
  {
   "cell_type": "code",
   "execution_count": 68,
   "id": "a0d8cea2",
   "metadata": {},
   "outputs": [
    {
     "name": "stdout",
     "output_type": "stream",
     "text": [
      "Dinosaurian\n"
     ]
    }
   ],
   "source": [
    "// Let's bin this variable\n",
    "switchAge = 100;\n",
    "\n",
    "if(switchAge < 12) {\n",
    "    console.log(\"Baby\");\n",
    "}\n",
    "else if(12 <= switchAge && switchAge < 18) {\n",
    "    console.log(\"Underage\");\n",
    "}\n",
    "else if(18 <= switchAge && switchAge < 30) {\n",
    "    console.log(\"Young\");\n",
    "}\n",
    "else if(30 <= switchAge && switchAge < 65) {\n",
    "    console.log(\"Grown-Up\");\n",
    "}\n",
    "else if(65 <= switchAge && switchAge < 100) {\n",
    "    console.log(\"Elderly\");\n",
    "}\n",
    "else if(switchAge >= 100) {\n",
    "    console.log(\"Dinosaurian\");\n",
    "}"
   ]
  },
  {
   "cell_type": "markdown",
   "id": "9704c8d6",
   "metadata": {},
   "source": [
    "Or:"
   ]
  },
  {
   "cell_type": "code",
   "execution_count": 73,
   "id": "22fc0579",
   "metadata": {},
   "outputs": [
    {
     "name": "stdout",
     "output_type": "stream",
     "text": [
      "Dinosaurian\n"
     ]
    }
   ],
   "source": [
    "switchAge = 105;\n",
    "switch(true) {\n",
    "    case (switchAge < 12):\n",
    "        console.log(\"Baby\");\n",
    "        break;\n",
    "    case (12 <= switchAge && switchAge < 18):\n",
    "        console.log(\"Underage\");\n",
    "        break;\n",
    "    case (18 <= switchAge && switchAge < 30):\n",
    "        console.log(\"Young\");\n",
    "        break;\n",
    "    case (30 <= switchAge && switchAge < 65):\n",
    "        console.log(\"Grown-Up\");\n",
    "        break;\n",
    "    case (65 <= switchAge && switchAge < 100):\n",
    "        console.log(\"Elderly\");\n",
    "        break;\n",
    "    case (switchAge >= 100):\n",
    "        console.log(\"Dinosaurian\");\n",
    "        break;\n",
    "    default:\n",
    "        console.log(\"What??\");\n",
    "}"
   ]
  },
  {
   "cell_type": "markdown",
   "id": "f889eb69",
   "metadata": {},
   "source": [
    "### Concise conditionals with `?`"
   ]
  },
  {
   "cell_type": "code",
   "execution_count": 12,
   "id": "d2c5c5d3",
   "metadata": {},
   "outputs": [
    {
     "name": "stdout",
     "output_type": "stream",
     "text": [
      "You're too young to drive a car, maybe a bike?\n"
     ]
    }
   ],
   "source": [
    "// JavaScript developers don't have time to figure out variable types and write long conditional series!\n",
    "(age < 18) ? console.log(\"You're too young to drive a car, maybe a bike?\") : console.log(\"Get on the road!\");"
   ]
  },
  {
   "cell_type": "markdown",
   "id": "54e52a7e",
   "metadata": {},
   "source": [
    "### `?` is not the same as `??`"
   ]
  },
  {
   "cell_type": "markdown",
   "id": "df0d8258",
   "metadata": {},
   "source": [
    "`??` is called the Nullish coalescing operator. Very similar to `COALESCE(.)` in `SQL`.\n",
    "\n",
    "It gives you the first available value (neither `null` nor `undefined` -- *but not undeclared*) across the operands:"
   ]
  },
  {
   "cell_type": "code",
   "execution_count": 40,
   "id": "6827db78",
   "metadata": {},
   "outputs": [],
   "source": [
    "let eccentricVar;\n",
    "let eccentricVar2;\n",
    "let Var = \"Hello!\";"
   ]
  },
  {
   "cell_type": "code",
   "execution_count": 41,
   "id": "56504620",
   "metadata": {},
   "outputs": [
    {
     "data": {
      "text/plain": [
       "'Hello!'"
      ]
     },
     "execution_count": 41,
     "metadata": {},
     "output_type": "execute_result"
    }
   ],
   "source": [
    "eccentricVar ?? Var;"
   ]
  },
  {
   "cell_type": "code",
   "execution_count": 42,
   "id": "ef1277ce",
   "metadata": {},
   "outputs": [
    {
     "data": {
      "text/plain": [
       "'Hello!'"
      ]
     },
     "execution_count": 42,
     "metadata": {},
     "output_type": "execute_result"
    }
   ],
   "source": [
    "eccentricVar ?? Var ?? eccentricVar2;"
   ]
  },
  {
   "cell_type": "code",
   "execution_count": 43,
   "id": "ea8ced53",
   "metadata": {},
   "outputs": [
    {
     "data": {
      "text/plain": [
       "'First'"
      ]
     },
     "execution_count": 43,
     "metadata": {},
     "output_type": "execute_result"
    }
   ],
   "source": [
    "eccentricVar2 ?? \"First\" ?? Var;"
   ]
  },
  {
   "cell_type": "code",
   "execution_count": 96,
   "id": "7da0f3ee",
   "metadata": {},
   "outputs": [
    {
     "ename": "ReferenceError",
     "evalue": "newVar is not defined",
     "output_type": "error",
     "traceback": [
      "evalmachine.<anonymous>:1",
      "newVar ?? \"Undeclared\";",
      "^",
      "",
      "ReferenceError: newVar is not defined",
      "    at evalmachine.<anonymous>:1:1",
      "    at Script.runInThisContext (vm.js:134:12)",
      "    at Object.runInThisContext (vm.js:310:38)",
      "    at run ([eval]:1054:15)",
      "    at onRunRequest ([eval]:888:18)",
      "    at onMessage ([eval]:848:13)",
      "    at process.emit (events.js:400:28)",
      "    at emit (internal/child_process.js:912:12)",
      "    at processTicksAndRejections (internal/process/task_queues.js:83:21)"
     ]
    }
   ],
   "source": [
    "newVar ?? \"Undeclared\";"
   ]
  },
  {
   "cell_type": "markdown",
   "id": "300c4268",
   "metadata": {},
   "source": [
    "---\n",
    "###### Test Time!\n",
    "---"
   ]
  },
  {
   "cell_type": "markdown",
   "id": "61926327",
   "metadata": {},
   "source": [
    "In the following, decide whether the code will execute, and if so, what the result will be."
   ]
  },
  {
   "cell_type": "code",
   "execution_count": 13,
   "id": "b6759bd3",
   "metadata": {},
   "outputs": [],
   "source": [
    "let litersOfWater;"
   ]
  },
  {
   "cell_type": "code",
   "execution_count": 22,
   "id": "b1201c5c",
   "metadata": {},
   "outputs": [
    {
     "data": {
      "text/plain": [
       "'1'"
      ]
     },
     "execution_count": 22,
     "metadata": {},
     "output_type": "execute_result"
    }
   ],
   "source": [
    "litersOfWater = \"1\";"
   ]
  },
  {
   "cell_type": "code",
   "execution_count": 23,
   "id": "71f6ad2c",
   "metadata": {},
   "outputs": [
    {
     "name": "stdout",
     "output_type": "stream",
     "text": [
      "You're dehydrated!\n"
     ]
    }
   ],
   "source": [
    "// Will this give an error, or what will it print??\n",
    "(litersOfWater < 2) ? console.log(\"You're dehydrated!\") :\n",
    "    (litersOfWater < 7) ? console.log(\"You're hydrated\") :\n",
    "    console.log(\"You're intoxicated!\")"
   ]
  },
  {
   "cell_type": "code",
   "execution_count": 30,
   "id": "ff8e0076",
   "metadata": {},
   "outputs": [
    {
     "data": {
      "text/plain": [
       "Infinity"
      ]
     },
     "execution_count": 30,
     "metadata": {},
     "output_type": "execute_result"
    }
   ],
   "source": [
    "44 / +\"\";"
   ]
  },
  {
   "cell_type": "code",
   "execution_count": 32,
   "id": "c25a946a",
   "metadata": {},
   "outputs": [
    {
     "data": {
      "text/plain": [
       "12"
      ]
     },
     "execution_count": 32,
     "metadata": {},
     "output_type": "execute_result"
    }
   ],
   "source": [
    "true + true + 10;"
   ]
  },
  {
   "cell_type": "code",
   "execution_count": 33,
   "id": "a7bbbf4b",
   "metadata": {},
   "outputs": [
    {
     "ename": "SyntaxError",
     "evalue": "Invalid left-hand side in assignment",
     "output_type": "error",
     "traceback": [
      "evalmachine.<anonymous>:1",
      "if (6 = 6) {",
      "    ^",
      "",
      "SyntaxError: Invalid left-hand side in assignment",
      "    at new Script (vm.js:102:7)",
      "    at createScript (vm.js:262:10)",
      "    at Object.runInThisContext (vm.js:310:10)",
      "    at run ([eval]:1054:15)",
      "    at onRunRequest ([eval]:888:18)",
      "    at onMessage ([eval]:848:13)",
      "    at process.emit (events.js:400:28)",
      "    at emit (internal/child_process.js:912:12)",
      "    at processTicksAndRejections (internal/process/task_queues.js:83:21)"
     ]
    }
   ],
   "source": [
    "if (6 = 6) {\n",
    "    console.log(\"It looks like 6 is indeed 6!\");\n",
    "}"
   ]
  },
  {
   "cell_type": "code",
   "execution_count": 34,
   "id": "a38b4df6",
   "metadata": {},
   "outputs": [
    {
     "name": "stdout",
     "output_type": "stream",
     "text": [
      "Cool\n"
     ]
    }
   ],
   "source": [
    "console.log((2 == \"2\") ? \"Cool\" : \"Uncool!\");"
   ]
  },
  {
   "cell_type": "code",
   "execution_count": 37,
   "id": "38936503",
   "metadata": {},
   "outputs": [
    {
     "ename": "SyntaxError",
     "evalue": "Identifier 'fofo' has already been declared",
     "output_type": "error",
     "traceback": [
      "evalmachine.<anonymous>:1",
      "const fofo = \"I'm out :(\";",
      "^",
      "",
      "SyntaxError: Identifier 'fofo' has already been declared",
      "    at Script.runInThisContext (vm.js:134:12)",
      "    at Object.runInThisContext (vm.js:310:38)",
      "    at run ([eval]:1054:15)",
      "    at onRunRequest ([eval]:888:18)",
      "    at onMessage ([eval]:848:13)",
      "    at process.emit (events.js:400:28)",
      "    at emit (internal/child_process.js:912:12)",
      "    at processTicksAndRejections (internal/process/task_queues.js:83:21)"
     ]
    }
   ],
   "source": [
    "const fofo = \"I'm out :(\";\n",
    "\n",
    "if (true && false || true) {\n",
    "    fofo = \"I'm in :D\";\n",
    "}\n",
    "\n",
    "typeof fofo;"
   ]
  },
  {
   "cell_type": "code",
   "execution_count": 38,
   "id": "80361331",
   "metadata": {},
   "outputs": [
    {
     "ename": "SyntaxError",
     "evalue": "Missing initializer in const declaration",
     "output_type": "error",
     "traceback": [
      "evalmachine.<anonymous>:1",
      "const fofo;",
      "      ^^^^",
      "",
      "SyntaxError: Missing initializer in const declaration",
      "    at new Script (vm.js:102:7)",
      "    at createScript (vm.js:262:10)",
      "    at Object.runInThisContext (vm.js:310:10)",
      "    at run ([eval]:1054:15)",
      "    at onRunRequest ([eval]:888:18)",
      "    at onMessage ([eval]:848:13)",
      "    at process.emit (events.js:400:28)",
      "    at emit (internal/child_process.js:912:12)",
      "    at processTicksAndRejections (internal/process/task_queues.js:83:21)"
     ]
    }
   ],
   "source": [
    "const fofo;\n",
    "\n",
    "if (true && false || true) {\n",
    "    fofo = \"I'm in :--D \";\n",
    "}\n",
    "\n",
    "typeof fofo;"
   ]
  },
  {
   "cell_type": "markdown",
   "id": "b0af5fcc",
   "metadata": {},
   "source": [
    "## Loops"
   ]
  },
  {
   "cell_type": "markdown",
   "id": "658b076d",
   "metadata": {},
   "source": [
    "### `while` and `do .. while`"
   ]
  },
  {
   "cell_type": "code",
   "execution_count": 2,
   "id": "9ae6ee70",
   "metadata": {},
   "outputs": [],
   "source": [
    "let i, j, n, m;"
   ]
  },
  {
   "cell_type": "code",
   "execution_count": 81,
   "id": "0df0897d",
   "metadata": {},
   "outputs": [
    {
     "name": "stdout",
     "output_type": "stream",
     "text": [
      "Now i = 3\n",
      "Now i = 2\n",
      "Now i = 1\n"
     ]
    },
    {
     "data": {
      "text/plain": [
       "0"
      ]
     },
     "execution_count": 81,
     "metadata": {},
     "output_type": "execute_result"
    }
   ],
   "source": [
    "i = 3;\n",
    "while (i > 0) {\n",
    "    console.log(\"Now i = \" + i);\n",
    "    --i;\n",
    "}"
   ]
  },
  {
   "cell_type": "code",
   "execution_count": 83,
   "id": "40f9cc70",
   "metadata": {},
   "outputs": [
    {
     "name": "stdout",
     "output_type": "stream",
     "text": [
      "Now j = 0\n"
     ]
    },
    {
     "data": {
      "text/plain": [
       "-1"
      ]
     },
     "execution_count": 83,
     "metadata": {},
     "output_type": "execute_result"
    }
   ],
   "source": [
    "j = 0;\n",
    "do {\n",
    "    console.log(\"Now j = \" + j);\n",
    "    --j;\n",
    "} while (j > 0);"
   ]
  },
  {
   "cell_type": "code",
   "execution_count": 85,
   "id": "a3072bb0",
   "metadata": {},
   "outputs": [],
   "source": [
    "j = 0;\n",
    "while (j > 0){\n",
    "    console.log(\"Now j = \" + j);\n",
    "    --j;\n",
    "}"
   ]
  },
  {
   "cell_type": "code",
   "execution_count": 86,
   "id": "6f307f5b",
   "metadata": {},
   "outputs": [
    {
     "name": "stdout",
     "output_type": "stream",
     "text": [
      "Now j = 0\n"
     ]
    },
    {
     "data": {
      "text/plain": [
       "-1"
      ]
     },
     "execution_count": 86,
     "metadata": {},
     "output_type": "execute_result"
    }
   ],
   "source": [
    "j = 0;\n",
    "while (j > 0); {\n",
    "    console.log(\"Now j = \" + j);\n",
    "    --j;\n",
    "}"
   ]
  },
  {
   "cell_type": "markdown",
   "id": "15514486",
   "metadata": {},
   "source": [
    "### `for`"
   ]
  },
  {
   "cell_type": "code",
   "execution_count": 98,
   "id": "0f539f35",
   "metadata": {},
   "outputs": [
    {
     "name": "stdout",
     "output_type": "stream",
     "text": [
      "Now c = 0\n",
      "Now c = 1\n",
      "Now c = 2\n",
      "Now c = 3\n",
      "Now c = 4\n",
      "undefined\n"
     ]
    }
   ],
   "source": [
    "for (let c = 0; c < 5; ++c){\n",
    "    console.log(\"Now c = \" + c);\n",
    "}\n",
    "console.log(typeof c);"
   ]
  },
  {
   "cell_type": "code",
   "execution_count": 1,
   "id": "2e7f2341",
   "metadata": {},
   "outputs": [
    {
     "name": "stdout",
     "output_type": "stream",
     "text": [
      "Now i = 6\n",
      "Now i = 5\n",
      "Now i = 4\n"
     ]
    }
   ],
   "source": [
    "for (i = 6; i > 3; --i){\n",
    "    console.log(\"Now i = \" + i);\n",
    "}"
   ]
  },
  {
   "cell_type": "code",
   "execution_count": 2,
   "id": "e2bb55cc",
   "metadata": {},
   "outputs": [
    {
     "name": "stdout",
     "output_type": "stream",
     "text": [
      "Now i = 3\n",
      "Now i = 2\n",
      "Now i = 1\n"
     ]
    }
   ],
   "source": [
    "for (; i > 0; --i) {\n",
    "    console.log(\"Now i = \" + i);\n",
    "}"
   ]
  },
  {
   "cell_type": "code",
   "execution_count": 4,
   "id": "5d161887",
   "metadata": {},
   "outputs": [
    {
     "name": "stdout",
     "output_type": "stream",
     "text": [
      "Now n = 10\n",
      "Now n = 5\n",
      "Now n = 2.5\n",
      "Now n = 1.25\n"
     ]
    },
    {
     "data": {
      "text/plain": [
       "0.625"
      ]
     },
     "execution_count": 4,
     "metadata": {},
     "output_type": "execute_result"
    }
   ],
   "source": [
    "n = 10;\n",
    "for (; n >= 1 ;) {\n",
    "    console.log(\"Now n = \" + n);\n",
    "    n = n /2;\n",
    "}"
   ]
  },
  {
   "cell_type": "markdown",
   "id": "b24850d9",
   "metadata": {},
   "source": [
    "---\n",
    "###### Time to Test!\n",
    "---"
   ]
  },
  {
   "cell_type": "markdown",
   "id": "ba01709f",
   "metadata": {},
   "source": [
    "What will be printed in these loops? Fix any syntax errors if exist."
   ]
  },
  {
   "cell_type": "code",
   "execution_count": 7,
   "id": "145ce817",
   "metadata": {},
   "outputs": [
    {
     "name": "stdout",
     "output_type": "stream",
     "text": [
      "5\n",
      "4\n",
      "3\n",
      "2\n",
      "1\n"
     ]
    }
   ],
   "source": [
    "m = 5;\n",
    "\n",
    "while(m) {\n",
    "    console.log(m--);\n",
    "}"
   ]
  },
  {
   "cell_type": "code",
   "execution_count": 9,
   "id": "854c2c40",
   "metadata": {},
   "outputs": [
    {
     "name": "stdout",
     "output_type": "stream",
     "text": [
      "10\n",
      "9\n",
      "8\n",
      "7\n",
      "6\n",
      "5\n",
      "4\n",
      "3\n",
      "2\n",
      "1\n"
     ]
    }
   ],
   "source": [
    "i = 10;\n",
    "for (; i > 0; --i) {\n",
    "    console.log(i);\n",
    "}"
   ]
  },
  {
   "cell_type": "code",
   "execution_count": 10,
   "id": "103ec6e8",
   "metadata": {},
   "outputs": [
    {
     "name": "stdout",
     "output_type": "stream",
     "text": [
      "0\n"
     ]
    }
   ],
   "source": [
    "i = 10;\n",
    "for (; i > 0; --i); {\n",
    "    console.log(i);\n",
    "}"
   ]
  },
  {
   "cell_type": "code",
   "execution_count": 19,
   "id": "1fe095f6",
   "metadata": {},
   "outputs": [
    {
     "ename": "SyntaxError",
     "evalue": "Unexpected token ','",
     "output_type": "error",
     "traceback": [
      "evalmachine.<anonymous>:3",
      "    for(,j < 3,) {",
      "        ^",
      "",
      "SyntaxError: Unexpected token ','",
      "    at new Script (vm.js:102:7)",
      "    at createScript (vm.js:262:10)",
      "    at Object.runInThisContext (vm.js:310:10)",
      "    at run ([eval]:1054:15)",
      "    at onRunRequest ([eval]:888:18)",
      "    at onMessage ([eval]:848:13)",
      "    at process.emit (events.js:400:28)",
      "    at emit (internal/child_process.js:912:12)",
      "    at processTicksAndRejections (internal/process/task_queues.js:83:21)"
     ]
    }
   ],
   "source": [
    "i = j = 0;\n",
    "while(i < 3) {    \n",
    "    for(,j < 3,) {\n",
    "        console.log(`[ ${i}, ${j}]`);\n",
    "        ++j;\n",
    "    }\n",
    "    ++i;\n",
    "    j = 0;\n",
    "}"
   ]
  },
  {
   "cell_type": "markdown",
   "id": "33d99cda",
   "metadata": {},
   "source": [
    "## Functions"
   ]
  },
  {
   "cell_type": "code",
   "execution_count": null,
   "id": "a92b3bcd",
   "metadata": {},
   "outputs": [],
   "source": []
  }
 ],
 "metadata": {
  "kernelspec": {
   "display_name": "Javascript (Node.js)",
   "language": "javascript",
   "name": "javascript"
  },
  "language_info": {
   "file_extension": ".js",
   "mimetype": "application/javascript",
   "name": "javascript",
   "version": "14.18.0"
  }
 },
 "nbformat": 4,
 "nbformat_minor": 5
}

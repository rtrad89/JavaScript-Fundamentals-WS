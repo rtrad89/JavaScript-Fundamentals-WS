{
 "cells": [
  {
   "cell_type": "markdown",
   "id": "6328bad8",
   "metadata": {},
   "source": [
    "# JavaScript Fundamentals"
   ]
  },
  {
   "cell_type": "markdown",
   "id": "0c1a3f26",
   "metadata": {},
   "source": [
    "![JavaScript Logo](https://www.tutorialrepublic.com/lib/images/javascript-illustration.png)\n",
    "\n",
    "Main sources: [Mozilla](https://developer.mozilla.org/en-US/docs/Learn/Getting_started_with_the_web/JavaScript_basics), [The Modern JavaScript Tutorial](https://javascript.info/)."
   ]
  },
  {
   "cell_type": "markdown",
   "id": "b9ca9f54",
   "metadata": {},
   "source": [
    "## Comments and Logging in JS"
   ]
  },
  {
   "cell_type": "code",
   "execution_count": null,
   "id": "6d545d64",
   "metadata": {},
   "outputs": [],
   "source": [
    "// this is a single-line comment\n",
    "console.log(\"Hello\");\n",
    "/* This is a \n",
    "multiline\n",
    "comment */\n",
    "console.log(\"Hello again!\");"
   ]
  },
  {
   "cell_type": "markdown",
   "id": "5acc783b",
   "metadata": {},
   "source": [
    "## Defining Variables"
   ]
  },
  {
   "cell_type": "markdown",
   "id": "7996a02a",
   "metadata": {},
   "source": [
    "There are two limitations on variable names in JavaScript [[src]](https://javascript.info/variables#variable-naming):\n",
    "- The name must contain only letters, digits, or the symbols `$` and `_`.\n",
    "- The first character must not be a digit."
   ]
  },
  {
   "cell_type": "markdown",
   "id": "19afcf77",
   "metadata": {},
   "source": [
    "Primitive variables in JS are of types:\n",
    " - `Boolean`\n",
    " - `Number` and `BigInt`\n",
    " - `String`\n",
    " - `Undefined`: unintntional absence of value, like forgetting to assign a value\n",
    " - `Symbol`, `function`\n",
    "\n",
    "Apart from that, everything is an `Object` where there's a bit more complexity. \n",
    "- There are collections (`Array`, `Set`, `Map`) and data structures (`JSON`) etc. [see this](https://developer.mozilla.org/en-US/docs/Web/JavaScript/Reference/Global_Objects).\n",
    "- `null` is an object for intentional absence of value."
   ]
  },
  {
   "cell_type": "markdown",
   "id": "522cc9d2",
   "metadata": {},
   "source": [
    "Defining a variable is done using `let` and `const`. Traditionally, `var` was used, but forget about it for now."
   ]
  },
  {
   "cell_type": "code",
   "execution_count": null,
   "id": "c3da155b",
   "metadata": {},
   "outputs": [],
   "source": [
    "let x = true, y = 34, z=null;\n",
    "typeof(x);"
   ]
  },
  {
   "cell_type": "code",
   "execution_count": null,
   "id": "e93b3452",
   "metadata": {},
   "outputs": [],
   "source": [
    "typeof x;"
   ]
  },
  {
   "cell_type": "code",
   "execution_count": null,
   "id": "77dd7cba",
   "metadata": {},
   "outputs": [],
   "source": [
    "x = \"Hello all\";\n",
    "typeof(x);"
   ]
  },
  {
   "cell_type": "code",
   "execution_count": null,
   "id": "163a7d5c",
   "metadata": {},
   "outputs": [],
   "source": [
    "typeof(y);"
   ]
  },
  {
   "cell_type": "code",
   "execution_count": null,
   "id": "27b28268",
   "metadata": {},
   "outputs": [],
   "source": [
    "typeof(z);"
   ]
  },
  {
   "cell_type": "code",
   "execution_count": null,
   "id": "ac0ef60f",
   "metadata": {},
   "outputs": [],
   "source": [
    "typeof(newVar)"
   ]
  },
  {
   "cell_type": "code",
   "execution_count": null,
   "id": "ae07b273",
   "metadata": {},
   "outputs": [],
   "source": [
    "x = 3;\n",
    "typeof(3);"
   ]
  },
  {
   "cell_type": "code",
   "execution_count": null,
   "id": "f121bb47",
   "metadata": {},
   "outputs": [],
   "source": [
    "x = 3n;\n",
    "typeof(x);"
   ]
  },
  {
   "cell_type": "code",
   "execution_count": null,
   "id": "7f12fa4d",
   "metadata": {},
   "outputs": [],
   "source": [
    "typeof(typeof(3));"
   ]
  },
  {
   "cell_type": "code",
   "execution_count": null,
   "id": "ab2d6f74",
   "metadata": {},
   "outputs": [],
   "source": [
    "typeof [1, 4, 6];"
   ]
  },
  {
   "cell_type": "code",
   "execution_count": null,
   "id": "38876045",
   "metadata": {},
   "outputs": [],
   "source": [
    "let I = \"I\",\n",
    "    love = \"Love\",\n",
    "    pizza = \"Pizza\",\n",
    "    _ = \"underscore\",\n",
    "    $ = \"money\";\n",
    "love;"
   ]
  },
  {
   "cell_type": "markdown",
   "id": "c8f9bb5d",
   "metadata": {},
   "source": [
    "Variable names are case-sensitive and they mustn't be a reserved word.\n",
    "What about `const`? it defines constant variables:"
   ]
  },
  {
   "cell_type": "code",
   "execution_count": null,
   "id": "e69ea002",
   "metadata": {},
   "outputs": [],
   "source": [
    "const myVar = \"Hello\";\n",
    "myVar;"
   ]
  },
  {
   "cell_type": "code",
   "execution_count": null,
   "id": "b65524f8",
   "metadata": {},
   "outputs": [],
   "source": [
    "myVar = \"Bye\";"
   ]
  },
  {
   "cell_type": "code",
   "execution_count": null,
   "id": "bdf886bd",
   "metadata": {},
   "outputs": [],
   "source": [
    "myvar;"
   ]
  },
  {
   "cell_type": "markdown",
   "id": "12750647",
   "metadata": {},
   "source": [
    "### Moving Between Variables"
   ]
  },
  {
   "cell_type": "markdown",
   "id": "c8eac999",
   "metadata": {},
   "source": [
    "By usage of the corresponding functions:\n",
    "- `Boolean(.)`\n",
    "- `Number(.)`, `BigInt(.)`\n",
    "- `String(.)`"
   ]
  },
  {
   "cell_type": "code",
   "execution_count": null,
   "id": "a5dcb908",
   "metadata": {
    "scrolled": true
   },
   "outputs": [],
   "source": [
    "typeof 4;"
   ]
  },
  {
   "cell_type": "code",
   "execution_count": null,
   "id": "ffa9f196",
   "metadata": {},
   "outputs": [],
   "source": [
    "typeof BigInt(4);"
   ]
  },
  {
   "cell_type": "code",
   "execution_count": null,
   "id": "4fec7544",
   "metadata": {},
   "outputs": [],
   "source": [
    "typeof 4n;"
   ]
  },
  {
   "cell_type": "code",
   "execution_count": null,
   "id": "e67270c3",
   "metadata": {},
   "outputs": [],
   "source": [
    "String(4);"
   ]
  },
  {
   "cell_type": "code",
   "execution_count": null,
   "id": "3c91686e",
   "metadata": {},
   "outputs": [],
   "source": [
    "typeof String(4);"
   ]
  },
  {
   "cell_type": "markdown",
   "id": "f6cef137",
   "metadata": {},
   "source": [
    "If the value is omitted or is 0, -0, null, false, NaN, undefined, or the empty string (\"\")\n",
    "the object has an initial value of false. These are called `falsy` values, we will see them later too."
   ]
  },
  {
   "cell_type": "code",
   "execution_count": null,
   "id": "51effad8",
   "metadata": {},
   "outputs": [],
   "source": [
    "Boolean(\"true\");"
   ]
  },
  {
   "cell_type": "code",
   "execution_count": null,
   "id": "97be6bf4",
   "metadata": {},
   "outputs": [],
   "source": [
    "Boolean(\"false\");"
   ]
  },
  {
   "cell_type": "code",
   "execution_count": null,
   "id": "1fb476d8",
   "metadata": {},
   "outputs": [],
   "source": [
    "Boolean([]);"
   ]
  },
  {
   "cell_type": "code",
   "execution_count": null,
   "id": "7fea5181",
   "metadata": {},
   "outputs": [],
   "source": [
    "Boolean();"
   ]
  },
  {
   "cell_type": "markdown",
   "id": "ca9a8d4f",
   "metadata": {},
   "source": [
    "## Operators on Variables"
   ]
  },
  {
   "cell_type": "markdown",
   "id": "f30e6647",
   "metadata": {},
   "source": [
    "#### Addition or concatenation `+`"
   ]
  },
  {
   "cell_type": "code",
   "execution_count": null,
   "id": "047c6b7a",
   "metadata": {},
   "outputs": [],
   "source": [
    "5 + 5"
   ]
  },
  {
   "cell_type": "code",
   "execution_count": null,
   "id": "28e063cc",
   "metadata": {},
   "outputs": [],
   "source": [
    "5 + \"9\""
   ]
  },
  {
   "cell_type": "code",
   "execution_count": null,
   "id": "906428f3",
   "metadata": {},
   "outputs": [],
   "source": [
    "\"5\" + 9;"
   ]
  },
  {
   "cell_type": "code",
   "execution_count": null,
   "id": "67030067",
   "metadata": {},
   "outputs": [],
   "source": [
    "Number(\"5\") + 9;"
   ]
  },
  {
   "cell_type": "code",
   "execution_count": null,
   "id": "3595eb89",
   "metadata": {},
   "outputs": [],
   "source": [
    "\"6\" + \"5\""
   ]
  },
  {
   "cell_type": "code",
   "execution_count": null,
   "id": "e0078041",
   "metadata": {},
   "outputs": [],
   "source": [
    "+2;"
   ]
  },
  {
   "cell_type": "code",
   "execution_count": null,
   "id": "75194681",
   "metadata": {},
   "outputs": [],
   "source": [
    "+true;"
   ]
  },
  {
   "cell_type": "code",
   "execution_count": null,
   "id": "75c2ce25",
   "metadata": {},
   "outputs": [],
   "source": [
    "+\"\";"
   ]
  },
  {
   "cell_type": "code",
   "execution_count": null,
   "id": "7b1b6cb2",
   "metadata": {},
   "outputs": [],
   "source": [
    "// We saw that:\n",
    "\"4\" + \"55\";"
   ]
  },
  {
   "cell_type": "code",
   "execution_count": null,
   "id": "6211eb9a",
   "metadata": {},
   "outputs": [],
   "source": [
    "// What about:\n",
    "-\"4\" + +\"55\";"
   ]
  },
  {
   "cell_type": "markdown",
   "id": "7446ce8f",
   "metadata": {},
   "source": [
    "#### Subtraction `-`"
   ]
  },
  {
   "cell_type": "code",
   "execution_count": null,
   "id": "8c1c750e",
   "metadata": {},
   "outputs": [],
   "source": [
    "3 - 2"
   ]
  },
  {
   "cell_type": "code",
   "execution_count": null,
   "id": "b50f3733",
   "metadata": {},
   "outputs": [],
   "source": [
    "x = -3;\n",
    "x"
   ]
  },
  {
   "cell_type": "code",
   "execution_count": null,
   "id": "052d1c82",
   "metadata": {},
   "outputs": [],
   "source": [
    "-\"\";"
   ]
  },
  {
   "cell_type": "code",
   "execution_count": null,
   "id": "21819dba",
   "metadata": {},
   "outputs": [],
   "source": [
    "\"3\" - \"2\""
   ]
  },
  {
   "cell_type": "code",
   "execution_count": null,
   "id": "f9820037",
   "metadata": {},
   "outputs": [],
   "source": [
    "3 - \"2\""
   ]
  },
  {
   "cell_type": "code",
   "execution_count": null,
   "id": "fcfb3bf5",
   "metadata": {},
   "outputs": [],
   "source": [
    "\"3\" - 2"
   ]
  },
  {
   "cell_type": "markdown",
   "id": "bba88185",
   "metadata": {},
   "source": [
    "So watch out.. JS is a dynamic programming language!\n",
    "> A dynamic programming language is a programming language in which operations otherwise done at compile-time can be done at run-time. For example, in JavaScript **it is possible to change the type of a variable** or add new properties or methods to an object **while the program is running**\n",
    "[source](https://developer.mozilla.org/en-US/docs/Glossary/Dynamic_programming_language)"
   ]
  },
  {
   "cell_type": "markdown",
   "id": "d29a0554",
   "metadata": {},
   "source": [
    "« **If in doubt, test it out** »"
   ]
  },
  {
   "cell_type": "markdown",
   "id": "ce1b0a80",
   "metadata": {},
   "source": [
    "#### Multiplication `*` and  division `/` and modulus `%`"
   ]
  },
  {
   "cell_type": "code",
   "execution_count": null,
   "id": "90a0f3e0",
   "metadata": {},
   "outputs": [],
   "source": [
    "4 * \"4\";"
   ]
  },
  {
   "cell_type": "code",
   "execution_count": null,
   "id": "bd4b959c",
   "metadata": {},
   "outputs": [],
   "source": [
    "\"5\" * \"6\";"
   ]
  },
  {
   "cell_type": "code",
   "execution_count": null,
   "id": "17d82752",
   "metadata": {},
   "outputs": [],
   "source": [
    "56 / 3;"
   ]
  },
  {
   "cell_type": "code",
   "execution_count": null,
   "id": "c2c5e7d8",
   "metadata": {},
   "outputs": [],
   "source": [
    "105 % 10;"
   ]
  },
  {
   "cell_type": "code",
   "execution_count": null,
   "id": "bae4f883",
   "metadata": {},
   "outputs": [],
   "source": [
    "43 / \"ds\";"
   ]
  },
  {
   "cell_type": "code",
   "execution_count": null,
   "id": "70d9254b",
   "metadata": {},
   "outputs": [],
   "source": [
    "55 / 0;"
   ]
  },
  {
   "cell_type": "code",
   "execution_count": null,
   "id": "2a36575d",
   "metadata": {},
   "outputs": [],
   "source": [
    "44 / -0;"
   ]
  },
  {
   "cell_type": "code",
   "execution_count": null,
   "id": "ad99bab4",
   "metadata": {},
   "outputs": [],
   "source": [
    "\"Hi\" / 5;"
   ]
  },
  {
   "cell_type": "code",
   "execution_count": null,
   "id": "ba7b133a",
   "metadata": {},
   "outputs": [],
   "source": [
    "// Brace yourselves for some \"dynamicity\"...\n",
    "typeof(NaN);"
   ]
  },
  {
   "cell_type": "markdown",
   "id": "bfdcf1a1",
   "metadata": {},
   "source": [
    "Final note: there is precedence among these operators, very similar to what we saw in Python workshop. Have a look at [this](https://developer.mozilla.org/en-US/docs/Web/JavaScript/Reference/Operators/Operator_Precedence) if you want."
   ]
  },
  {
   "cell_type": "markdown",
   "id": "e3e4e830",
   "metadata": {},
   "source": [
    "#### Increment `++` and Decrement `--`"
   ]
  },
  {
   "cell_type": "markdown",
   "id": "80bcf60e",
   "metadata": {},
   "source": [
    "*Heavily used in loops*.\n",
    "Add / subtract 1 to/from a variable. They can come before or after the variable to change their precedence."
   ]
  },
  {
   "cell_type": "code",
   "execution_count": null,
   "id": "b7570ee0",
   "metadata": {},
   "outputs": [],
   "source": [
    "i = 1, j=0;\n",
    "console.log(\"i = \", i, \"; j = \", j);"
   ]
  },
  {
   "cell_type": "code",
   "execution_count": null,
   "id": "0f9844fb",
   "metadata": {},
   "outputs": [],
   "source": [
    "j = ++i;\n",
    "console.log(\"i = \", i, \"; j = \", j);"
   ]
  },
  {
   "cell_type": "code",
   "execution_count": null,
   "id": "a53b9a67",
   "metadata": {},
   "outputs": [],
   "source": [
    "j = --i;\n",
    "console.log(\"i = \", i, \"; j = \", j);"
   ]
  },
  {
   "cell_type": "code",
   "execution_count": null,
   "id": "05f8079c",
   "metadata": {},
   "outputs": [],
   "source": [
    "j = i++;\n",
    "console.log(\"i = \", i, \"; j = \", j);"
   ]
  },
  {
   "cell_type": "code",
   "execution_count": null,
   "id": "f7b347fa",
   "metadata": {},
   "outputs": [],
   "source": [
    "i = j--;\n",
    "console.log(\"i = \", i, \"; j = \", j);"
   ]
  },
  {
   "cell_type": "markdown",
   "id": "d5ebaf2c",
   "metadata": {},
   "source": [
    "My take: use the prefix form unless you really need the postfix form."
   ]
  },
  {
   "cell_type": "markdown",
   "id": "e4b49d08",
   "metadata": {},
   "source": [
    "## Comparisons and Conditionals"
   ]
  },
  {
   "cell_type": "markdown",
   "id": "dced84de",
   "metadata": {},
   "source": [
    "In JS, ther are true, false, but also truthy and falsy!\n",
    "\n",
    "- Falsy: `0`, `null`, `undefined`, an empty string `''`, `NaN` and of course `false`\n",
    "- Truthy: `true` and all else."
   ]
  },
  {
   "cell_type": "markdown",
   "id": "95abac57",
   "metadata": {},
   "source": [
    "### `=` or `==` or `===` ?!"
   ]
  },
  {
   "cell_type": "markdown",
   "id": "b8a05af9",
   "metadata": {},
   "source": [
    "JS says:\n",
    "- `=` is for assignment\n",
    "- `==` is for \"loose\" equality checks\n",
    "- `===` is for \"strict\" equality checks"
   ]
  },
  {
   "cell_type": "code",
   "execution_count": null,
   "id": "56be0028",
   "metadata": {},
   "outputs": [],
   "source": [
    "5 = 4;"
   ]
  },
  {
   "cell_type": "code",
   "execution_count": null,
   "id": "fab555d5",
   "metadata": {},
   "outputs": [],
   "source": [
    "let a, b, c;\n",
    "\n",
    "a = b = c = 6;\n",
    "console.log(a, \",\", b, \",\", c);"
   ]
  },
  {
   "cell_type": "code",
   "execution_count": null,
   "id": "1cad8906",
   "metadata": {},
   "outputs": [],
   "source": [
    "5 == 4;"
   ]
  },
  {
   "cell_type": "code",
   "execution_count": null,
   "id": "4ac46087",
   "metadata": {},
   "outputs": [],
   "source": [
    "5 == 5;"
   ]
  },
  {
   "cell_type": "code",
   "execution_count": null,
   "id": "e347e69e",
   "metadata": {},
   "outputs": [],
   "source": [
    "// Interpreted values compared\n",
    "5 == \"5\";"
   ]
  },
  {
   "cell_type": "code",
   "execution_count": null,
   "id": "72cc6be6",
   "metadata": {},
   "outputs": [],
   "source": [
    "// Values and types compared\n",
    "5 === \"5\";"
   ]
  },
  {
   "cell_type": "markdown",
   "id": "cf2c468c",
   "metadata": {},
   "source": [
    "##### The case with `null` and `undefined`"
   ]
  },
  {
   "cell_type": "markdown",
   "id": "9272f99f",
   "metadata": {},
   "source": [
    "There's a strict equality check that's above anything else:\n",
    "> the values `null` and `undefined` loosely equal each other and do not equal any other value [src](https://javascript.info/comparison#strange-result-null-vs-0)"
   ]
  },
  {
   "cell_type": "code",
   "execution_count": null,
   "id": "1e05e779",
   "metadata": {},
   "outputs": [],
   "source": [
    "null == undefined;"
   ]
  },
  {
   "cell_type": "code",
   "execution_count": null,
   "id": "503082c3",
   "metadata": {},
   "outputs": [],
   "source": [
    "// But... still\n",
    "null === undefined;"
   ]
  },
  {
   "cell_type": "markdown",
   "id": "a6bebbf5",
   "metadata": {},
   "source": [
    "### `>`, `<`, `>=`, `<=`"
   ]
  },
  {
   "cell_type": "markdown",
   "id": "833cc283",
   "metadata": {},
   "source": [
    "They are straightforward but **you probably do not want to use them with null/undefined variables!**.. see:"
   ]
  },
  {
   "cell_type": "code",
   "execution_count": null,
   "id": "b78601e5",
   "metadata": {},
   "outputs": [],
   "source": [
    "null == 0;"
   ]
  },
  {
   "cell_type": "markdown",
   "id": "bb3485bf",
   "metadata": {},
   "source": [
    "Note: even though they are both falsy, they don't equal each other still (no interpretation done)."
   ]
  },
  {
   "cell_type": "code",
   "execution_count": null,
   "id": "a3e27209",
   "metadata": {},
   "outputs": [],
   "source": [
    "null > 0;"
   ]
  },
  {
   "cell_type": "code",
   "execution_count": null,
   "id": "7be988d1",
   "metadata": {},
   "outputs": [],
   "source": [
    "// Since this is not an equality check , null would be \"carelessly\" converted to a 0 by >=\n",
    "null >= 0;"
   ]
  },
  {
   "cell_type": "markdown",
   "id": "5176f849",
   "metadata": {},
   "source": [
    "*Rule of thumb: if using variables that might be null/undefined, and you have to use `<`/`>` comparisons with them, it's a good idea to check and see of they are null or underfined first.*"
   ]
  },
  {
   "cell_type": "markdown",
   "id": "8d4dd135",
   "metadata": {},
   "source": [
    "#### Negation `!`"
   ]
  },
  {
   "cell_type": "code",
   "execution_count": null,
   "id": "756fadb1",
   "metadata": {},
   "outputs": [],
   "source": [
    "5 != 4;"
   ]
  },
  {
   "cell_type": "code",
   "execution_count": null,
   "id": "9f41737a",
   "metadata": {},
   "outputs": [],
   "source": [
    "5 !== 4;"
   ]
  },
  {
   "cell_type": "code",
   "execution_count": null,
   "id": "70d5bd35",
   "metadata": {},
   "outputs": [],
   "source": [
    "5 != \"5\";"
   ]
  },
  {
   "cell_type": "code",
   "execution_count": null,
   "id": "d9bfe31b",
   "metadata": {},
   "outputs": [],
   "source": [
    "5 !== \"5\";"
   ]
  },
  {
   "cell_type": "code",
   "execution_count": null,
   "id": "748b9f2e",
   "metadata": {},
   "outputs": [],
   "source": [
    "!5 == 4;"
   ]
  },
  {
   "cell_type": "code",
   "execution_count": null,
   "id": "31716ae2",
   "metadata": {},
   "outputs": [],
   "source": [
    "!(5 == 4);"
   ]
  },
  {
   "cell_type": "code",
   "execution_count": null,
   "id": "75012631",
   "metadata": {},
   "outputs": [],
   "source": [
    "!!(5 === 4);"
   ]
  },
  {
   "cell_type": "markdown",
   "id": "2b2e0cca",
   "metadata": {},
   "source": [
    "#### AND `&&` and OR `||`"
   ]
  },
  {
   "cell_type": "code",
   "execution_count": null,
   "id": "dda40df5",
   "metadata": {},
   "outputs": [],
   "source": [
    "(5 > 0) && (0 < 3) || (4 = 4) && (6 === 6);"
   ]
  },
  {
   "cell_type": "code",
   "execution_count": null,
   "id": "f7a50488",
   "metadata": {},
   "outputs": [],
   "source": [
    "(5 > 0) && (0 < 3) || (4 == 4) && (6 === 6);"
   ]
  },
  {
   "cell_type": "markdown",
   "id": "38055784",
   "metadata": {},
   "source": [
    "##### `||` and `&&` can also used for assignment in JS!"
   ]
  },
  {
   "cell_type": "markdown",
   "id": "3fed764b",
   "metadata": {},
   "source": [
    "In JS, these can return one of their operands if desired.\n",
    "- `||` will give back the first operand if it is truthy, otherwise the second (useful for default values)\n",
    "- `&&` will give back the first operand if it is falsy, otherwise the second"
   ]
  },
  {
   "cell_type": "code",
   "execution_count": null,
   "id": "690fa193",
   "metadata": {},
   "outputs": [],
   "source": [
    "let temp;"
   ]
  },
  {
   "cell_type": "code",
   "execution_count": null,
   "id": "50ef41a7",
   "metadata": {},
   "outputs": [],
   "source": [
    "temp = '' || 'I love you';\n",
    "temp;"
   ]
  },
  {
   "cell_type": "code",
   "execution_count": null,
   "id": "d31b86e5",
   "metadata": {},
   "outputs": [],
   "source": [
    "temp = NaN || '';\n",
    "temp;"
   ]
  },
  {
   "cell_type": "code",
   "execution_count": null,
   "id": "69777782",
   "metadata": {},
   "outputs": [],
   "source": [
    "temp = '' && 'I love you';\n",
    "temp;"
   ]
  },
  {
   "cell_type": "code",
   "execution_count": null,
   "id": "1a666e2a",
   "metadata": {},
   "outputs": [],
   "source": [
    "let numberVar;"
   ]
  },
  {
   "cell_type": "code",
   "execution_count": null,
   "id": "3b5c4a41",
   "metadata": {},
   "outputs": [],
   "source": [
    "numberVar = 10;\n",
    "(numberVar % 10 == 0) || console.log(\"Not divisible by 10\");"
   ]
  },
  {
   "cell_type": "markdown",
   "id": "3b73e3c7",
   "metadata": {},
   "source": [
    "To note: `&&` takes precedence over `||`."
   ]
  },
  {
   "cell_type": "markdown",
   "id": "af7d14aa",
   "metadata": {},
   "source": [
    "### Using `if` in JS"
   ]
  },
  {
   "cell_type": "code",
   "execution_count": null,
   "id": "a9848594",
   "metadata": {},
   "outputs": [],
   "source": [
    "let age, underage;"
   ]
  },
  {
   "cell_type": "code",
   "execution_count": null,
   "id": "72db5c5d",
   "metadata": {},
   "outputs": [],
   "source": [
    "age = 12;\n",
    "underage = age <18;"
   ]
  },
  {
   "cell_type": "code",
   "execution_count": null,
   "id": "d01d8ca7",
   "metadata": {},
   "outputs": [],
   "source": [
    "if(underage) {\n",
    "    console.log(\"You are not allowed to drive, your age is \" + age);\n",
    "}\n",
    "else if (age == \"18\") {\n",
    "    console.log(\"You are BARELY allowed to drive\");\n",
    "}\n",
    "else {\n",
    "    console.log(`Just be careful on the road; your age is ${age}.`);\n",
    "}"
   ]
  },
  {
   "cell_type": "markdown",
   "id": "0784ff91",
   "metadata": {},
   "source": [
    "### Enter the `switch`"
   ]
  },
  {
   "cell_type": "markdown",
   "id": "ea9526d3",
   "metadata": {},
   "source": [
    "Writing `if` and `else` over and over again is cumbersome. JS offers us a neater way called `switch`!"
   ]
  },
  {
   "cell_type": "code",
   "execution_count": null,
   "id": "e6223913",
   "metadata": {},
   "outputs": [],
   "source": [
    "let month;"
   ]
  },
  {
   "cell_type": "code",
   "execution_count": null,
   "id": "66663470",
   "metadata": {},
   "outputs": [],
   "source": [
    "// Let's figure out the season of that month?\n",
    "month = 11;\n",
    "\n",
    "if(month === 1 || month === 2 || month === 12)\n",
    "    console.log(\"Winter\");\n",
    "else if (month === 3 || month === 4 || month === 5)\n",
    "    console.log(\"Spring\");\n",
    "else if (month === 6 || month === 7 || month === 8)\n",
    "    console.log(\"Summer\");\n",
    "else\n",
    "    console.log(\"Autumn\");"
   ]
  },
  {
   "cell_type": "markdown",
   "id": "f2281e35",
   "metadata": {},
   "source": [
    "Or:"
   ]
  },
  {
   "cell_type": "code",
   "execution_count": null,
   "id": "eaf08572",
   "metadata": {},
   "outputs": [],
   "source": [
    "switch(month) {\n",
    "    case 12:\n",
    "    case 1:\n",
    "    case 2:\n",
    "        console.log(\"Winter\");\n",
    "        break;\n",
    "    case 3:\n",
    "    case 4:\n",
    "    case 5:\n",
    "        console.log(\"Spring\");\n",
    "        break;\n",
    "    case 6:\n",
    "    case 7:\n",
    "    case 8:\n",
    "        console.log(\"Summer\");\n",
    "        break;\n",
    "    default:\n",
    "        console.log(\"Autumn\");\n",
    "}"
   ]
  },
  {
   "cell_type": "markdown",
   "id": "348dc9d8",
   "metadata": {},
   "source": [
    "- **NOTE 01: case checks use `===` and not `==`!**\n",
    "- **NOTE 02: case will execute EVERYTHING once it fires! that's why we need `break;`**"
   ]
  },
  {
   "cell_type": "code",
   "execution_count": null,
   "id": "9930d491",
   "metadata": {},
   "outputs": [],
   "source": [
    "month = 3;\n",
    "switch(month) {\n",
    "    case 12:\n",
    "    case 1:\n",
    "    case 2:\n",
    "        console.log(\"Winter\");\n",
    "        \n",
    "    case 3:\n",
    "    case 4:\n",
    "    case 5:\n",
    "        console.log(\"Spring\");\n",
    "        \n",
    "    case 6:\n",
    "    case 7:\n",
    "    case 8:\n",
    "        console.log(\"Summer\");\n",
    "        \n",
    "    default:\n",
    "        console.log(\"Autumn\");\n",
    "}"
   ]
  },
  {
   "cell_type": "code",
   "execution_count": null,
   "id": "795c003d",
   "metadata": {},
   "outputs": [],
   "source": [
    "let switchAge;"
   ]
  },
  {
   "cell_type": "code",
   "execution_count": null,
   "id": "a0d8cea2",
   "metadata": {},
   "outputs": [],
   "source": [
    "// Let's bin this variable\n",
    "switchAge = 100;\n",
    "\n",
    "if(switchAge < 12) {\n",
    "    console.log(\"Baby\");\n",
    "}\n",
    "else if(12 <= switchAge && switchAge < 18) {\n",
    "    console.log(\"Underage\");\n",
    "}\n",
    "else if(18 <= switchAge && switchAge < 30) {\n",
    "    console.log(\"Young\");\n",
    "}\n",
    "else if(30 <= switchAge && switchAge < 65) {\n",
    "    console.log(\"Grown-Up\");\n",
    "}\n",
    "else if(65 <= switchAge && switchAge < 100) {\n",
    "    console.log(\"Elderly\");\n",
    "}\n",
    "else if(switchAge >= 100) {\n",
    "    console.log(\"Dinosaurian\");\n",
    "}"
   ]
  },
  {
   "cell_type": "markdown",
   "id": "9704c8d6",
   "metadata": {},
   "source": [
    "Or:"
   ]
  },
  {
   "cell_type": "code",
   "execution_count": null,
   "id": "22fc0579",
   "metadata": {},
   "outputs": [],
   "source": [
    "switchAge = 105;\n",
    "switch(true) {\n",
    "    case (switchAge < 12):\n",
    "        console.log(\"Baby\");\n",
    "        break;\n",
    "    case (12 <= switchAge && switchAge < 18):\n",
    "        console.log(\"Underage\");\n",
    "        break;\n",
    "    case (18 <= switchAge && switchAge < 30):\n",
    "        console.log(\"Young\");\n",
    "        break;\n",
    "    case (30 <= switchAge && switchAge < 65):\n",
    "        console.log(\"Grown-Up\");\n",
    "        break;\n",
    "    case (65 <= switchAge && switchAge < 100):\n",
    "        console.log(\"Elderly\");\n",
    "        break;\n",
    "    case (switchAge >= 100):\n",
    "        console.log(\"Dinosaurian\");\n",
    "        break;\n",
    "    default:\n",
    "        console.log(\"What??\");\n",
    "}"
   ]
  },
  {
   "cell_type": "markdown",
   "id": "f889eb69",
   "metadata": {},
   "source": [
    "### Concise conditionals with `?`"
   ]
  },
  {
   "cell_type": "code",
   "execution_count": null,
   "id": "d2c5c5d3",
   "metadata": {},
   "outputs": [],
   "source": [
    "// JavaScript developers don't have time to figure out variable types and write long conditional series!\n",
    "(age < 18) ? console.log(\"You're too young to drive a car, maybe a bike?\") : console.log(\"Get on the road!\");"
   ]
  },
  {
   "cell_type": "markdown",
   "id": "54e52a7e",
   "metadata": {},
   "source": [
    "### `?` is not the same as `??`"
   ]
  },
  {
   "cell_type": "markdown",
   "id": "df0d8258",
   "metadata": {},
   "source": [
    "`??` is called the Nullish coalescing operator. Very similar to `COALESCE(.)` in `SQL`.\n",
    "\n",
    "It gives you the first available value (neither `null` nor `undefined` -- *but not undeclared*) across the operands:"
   ]
  },
  {
   "cell_type": "code",
   "execution_count": null,
   "id": "6827db78",
   "metadata": {},
   "outputs": [],
   "source": [
    "let eccentricVar;\n",
    "let eccentricVar2;\n",
    "let Var = \"Hello!\";"
   ]
  },
  {
   "cell_type": "code",
   "execution_count": null,
   "id": "56504620",
   "metadata": {},
   "outputs": [],
   "source": [
    "eccentricVar ?? Var;"
   ]
  },
  {
   "cell_type": "code",
   "execution_count": null,
   "id": "ef1277ce",
   "metadata": {},
   "outputs": [],
   "source": [
    "eccentricVar ?? Var ?? eccentricVar2;"
   ]
  },
  {
   "cell_type": "code",
   "execution_count": null,
   "id": "ea8ced53",
   "metadata": {},
   "outputs": [],
   "source": [
    "eccentricVar2 ?? \"First\" ?? Var;"
   ]
  },
  {
   "cell_type": "code",
   "execution_count": null,
   "id": "7da0f3ee",
   "metadata": {},
   "outputs": [],
   "source": [
    "// Undefined is not Undeclared!\n",
    "newVar ?? \"Undeclared\";"
   ]
  },
  {
   "cell_type": "markdown",
   "id": "b4ba1b06",
   "metadata": {},
   "source": [
    "**`||` or `??` for assignment?**\n",
    "\n",
    "`??` is more forgiving regarding what to consider the extreme case. `||` consider all falsy states but `??` considers only two."
   ]
  },
  {
   "cell_type": "markdown",
   "id": "300c4268",
   "metadata": {},
   "source": [
    "---\n",
    "###### Test Time!\n",
    "---"
   ]
  },
  {
   "cell_type": "markdown",
   "id": "61926327",
   "metadata": {},
   "source": [
    "In the following, decide whether the code will execute, and if so, what the result will be."
   ]
  },
  {
   "cell_type": "code",
   "execution_count": null,
   "id": "b6759bd3",
   "metadata": {},
   "outputs": [],
   "source": [
    "let litersOfWater;"
   ]
  },
  {
   "cell_type": "code",
   "execution_count": null,
   "id": "b1201c5c",
   "metadata": {},
   "outputs": [],
   "source": [
    "litersOfWater = \"1\";"
   ]
  },
  {
   "cell_type": "code",
   "execution_count": null,
   "id": "71f6ad2c",
   "metadata": {},
   "outputs": [],
   "source": [
    "// Will this give an error, or what will it print??\n",
    "(litersOfWater < 2) ? console.log(\"You're dehydrated!\") :\n",
    "    (litersOfWater < 7) ? console.log(\"You're hydrated\") :\n",
    "    console.log(\"You're intoxicated!\")"
   ]
  },
  {
   "cell_type": "code",
   "execution_count": null,
   "id": "ff8e0076",
   "metadata": {},
   "outputs": [],
   "source": [
    "44 / +\"\";"
   ]
  },
  {
   "cell_type": "code",
   "execution_count": null,
   "id": "c25a946a",
   "metadata": {},
   "outputs": [],
   "source": [
    "true + true + 10;"
   ]
  },
  {
   "cell_type": "code",
   "execution_count": null,
   "id": "a7bbbf4b",
   "metadata": {},
   "outputs": [],
   "source": [
    "if (6 = 6) {\n",
    "    console.log(\"It looks like 6 is indeed 6!\");\n",
    "}"
   ]
  },
  {
   "cell_type": "code",
   "execution_count": null,
   "id": "a38b4df6",
   "metadata": {},
   "outputs": [],
   "source": [
    "console.log((2 == \"2\") ? \"Cool\" : \"Uncool!\");"
   ]
  },
  {
   "cell_type": "code",
   "execution_count": null,
   "id": "38936503",
   "metadata": {},
   "outputs": [],
   "source": [
    "const fofo = \"I'm out :(\";\n",
    "\n",
    "if (true && false || true) {\n",
    "    fofo = \"I'm in :D\";\n",
    "}\n",
    "\n",
    "typeof fofo;"
   ]
  },
  {
   "cell_type": "code",
   "execution_count": null,
   "id": "80361331",
   "metadata": {},
   "outputs": [],
   "source": [
    "const fofo;\n",
    "\n",
    "if (true && false || true) {\n",
    "    fofo = \"I'm in :--D\";\n",
    "}\n",
    "\n",
    "typeof fofo;"
   ]
  },
  {
   "cell_type": "code",
   "execution_count": null,
   "id": "92d9e27d",
   "metadata": {},
   "outputs": [],
   "source": [
    "let fofo2;\n",
    "\n",
    "if (true && false || true) {\n",
    "    fofo2 = \"I'm in :--D\";\n",
    "}\n",
    "\n",
    "typeof fofo2;"
   ]
  },
  {
   "cell_type": "markdown",
   "id": "b0af5fcc",
   "metadata": {},
   "source": [
    "## Loops"
   ]
  },
  {
   "cell_type": "markdown",
   "id": "658b076d",
   "metadata": {},
   "source": [
    "### `while` and `do .. while`"
   ]
  },
  {
   "cell_type": "code",
   "execution_count": null,
   "id": "9ae6ee70",
   "metadata": {},
   "outputs": [],
   "source": [
    "let i, j, n, m;"
   ]
  },
  {
   "cell_type": "code",
   "execution_count": null,
   "id": "0df0897d",
   "metadata": {},
   "outputs": [],
   "source": [
    "i = 3;\n",
    "while (i > 0) {\n",
    "    console.log(\"Now i = \" + i);\n",
    "    --i;\n",
    "}"
   ]
  },
  {
   "cell_type": "code",
   "execution_count": null,
   "id": "40f9cc70",
   "metadata": {},
   "outputs": [],
   "source": [
    "j = 0;\n",
    "do {\n",
    "    console.log(\"Now j = \" + j);\n",
    "    --j;\n",
    "} while (j > 0);"
   ]
  },
  {
   "cell_type": "code",
   "execution_count": null,
   "id": "a3072bb0",
   "metadata": {},
   "outputs": [],
   "source": [
    "j = 0;\n",
    "while (j > 0){\n",
    "    console.log(\"Now j = \" + j);\n",
    "    --j;\n",
    "}"
   ]
  },
  {
   "cell_type": "code",
   "execution_count": null,
   "id": "6f307f5b",
   "metadata": {},
   "outputs": [],
   "source": [
    "j = 0;\n",
    "while (j > 0); {\n",
    "    console.log(\"Now j = \" + j);\n",
    "    --j;\n",
    "}"
   ]
  },
  {
   "cell_type": "markdown",
   "id": "15514486",
   "metadata": {},
   "source": [
    "### `for`"
   ]
  },
  {
   "cell_type": "code",
   "execution_count": null,
   "id": "0f539f35",
   "metadata": {},
   "outputs": [],
   "source": [
    "for (let c = 0; c < 5; ++c){\n",
    "    console.log(\"Now c = \" + c);\n",
    "}\n",
    "console.log(typeof c);"
   ]
  },
  {
   "cell_type": "code",
   "execution_count": null,
   "id": "2e7f2341",
   "metadata": {},
   "outputs": [],
   "source": [
    "for (i = 6; i > 3; --i){\n",
    "    console.log(\"Now i = \" + i);\n",
    "}"
   ]
  },
  {
   "cell_type": "code",
   "execution_count": null,
   "id": "e2bb55cc",
   "metadata": {},
   "outputs": [],
   "source": [
    "for (; i > 0; --i) {\n",
    "    console.log(\"Now i = \" + i);\n",
    "}"
   ]
  },
  {
   "cell_type": "code",
   "execution_count": null,
   "id": "5d161887",
   "metadata": {},
   "outputs": [],
   "source": [
    "n = 10;\n",
    "for (; n >= 1 ;) {\n",
    "    console.log(\"Now n = \" + n);\n",
    "    n = n /2;\n",
    "}"
   ]
  },
  {
   "cell_type": "markdown",
   "id": "c33a18a5",
   "metadata": {},
   "source": [
    "### `forEach` on Object variables"
   ]
  },
  {
   "cell_type": "markdown",
   "id": "f9fde7cd",
   "metadata": {},
   "source": [
    "Can be called on collections, e.g., `Array`, `Map`, `Set`. They use callback functions, so we will see them later."
   ]
  },
  {
   "cell_type": "markdown",
   "id": "b24850d9",
   "metadata": {},
   "source": [
    "---\n",
    "###### Time to Test!\n",
    "---"
   ]
  },
  {
   "cell_type": "markdown",
   "id": "ba01709f",
   "metadata": {},
   "source": [
    "What will be printed in these loops? Fix any syntax errors if exist."
   ]
  },
  {
   "cell_type": "code",
   "execution_count": null,
   "id": "145ce817",
   "metadata": {},
   "outputs": [],
   "source": [
    "m = 5;\n",
    "\n",
    "while(m) {\n",
    "    console.log(m--);\n",
    "}"
   ]
  },
  {
   "cell_type": "code",
   "execution_count": null,
   "id": "854c2c40",
   "metadata": {},
   "outputs": [],
   "source": [
    "i = 10;\n",
    "for (; i > 0; --i) {\n",
    "    console.log(i);\n",
    "}"
   ]
  },
  {
   "cell_type": "code",
   "execution_count": null,
   "id": "103ec6e8",
   "metadata": {},
   "outputs": [],
   "source": [
    "i = 10;\n",
    "for (; i > 0; --i); {\n",
    "    console.log(i);\n",
    "}"
   ]
  },
  {
   "cell_type": "code",
   "execution_count": null,
   "id": "1fe095f6",
   "metadata": {},
   "outputs": [],
   "source": [
    "i = j = 0;\n",
    "while(i < 3) {    \n",
    "    for(,j < 3,) {\n",
    "        console.log(`[ ${i}, ${j}]`);\n",
    "        ++j;\n",
    "    }\n",
    "    ++i;\n",
    "    j = 0;\n",
    "}"
   ]
  },
  {
   "cell_type": "markdown",
   "id": "33d99cda",
   "metadata": {},
   "source": [
    "## Functions"
   ]
  },
  {
   "cell_type": "markdown",
   "id": "84624470",
   "metadata": {},
   "source": [
    "In our code, we typically want to carry out actions. These actions might be one-off or recurrent.\n",
    "If they are recurrent, i.e., if you see you are repeating the code across the application, think about using a function.\n",
    "\n",
    "**Function = 1 clear action!**\n",
    "\n",
    "What if we have a complex action? Divide and conquer, defining more functions is free and a function can call another function :-)"
   ]
  },
  {
   "cell_type": "markdown",
   "id": "8df48a3f",
   "metadata": {},
   "source": [
    "`console.log(.)` is a function that we have been using over and over again. What if we want to shorten its name?"
   ]
  },
  {
   "cell_type": "code",
   "execution_count": null,
   "id": "4b7ed885",
   "metadata": {},
   "outputs": [],
   "source": [
    "function show(msg) {\n",
    "    console.log(msg);\n",
    "}"
   ]
  },
  {
   "cell_type": "code",
   "execution_count": null,
   "id": "c6693f13",
   "metadata": {},
   "outputs": [],
   "source": [
    "show(\"Hello\")"
   ]
  },
  {
   "cell_type": "markdown",
   "id": "2448c467",
   "metadata": {},
   "source": [
    "Function **declaration** schema is:\n",
    "```\n",
    "function <name> ([<parameter1> = <default>, <parameter2>, ..]) {\n",
    "<body of code>\n",
    "[return <...>;]\n",
    "Anything here and onwards is neglected.\n",
    "}\n",
    "```"
   ]
  },
  {
   "cell_type": "markdown",
   "id": "9767c79c",
   "metadata": {},
   "source": [
    "These declarations are pervasive: they can used anywhere, even before they are written in JS"
   ]
  },
  {
   "cell_type": "code",
   "execution_count": null,
   "id": "29244b31",
   "metadata": {},
   "outputs": [],
   "source": [
    "hugMe();\n",
    "\n",
    "function hugMe()\n",
    "{\n",
    "    console.log(\"Here's a hug! ♥\");\n",
    "}"
   ]
  },
  {
   "cell_type": "markdown",
   "id": "7ca3475c",
   "metadata": {},
   "source": [
    "**Important notes**\n",
    "1. All functions in JS return something, even if its `undefined`"
   ]
  },
  {
   "cell_type": "code",
   "execution_count": null,
   "id": "868b83ee",
   "metadata": {},
   "outputs": [],
   "source": [
    "function blank() {}\n",
    "\n",
    "typeof blank();"
   ]
  },
  {
   "cell_type": "code",
   "execution_count": null,
   "id": "caf4c131",
   "metadata": {},
   "outputs": [],
   "source": [
    "function blank() {\n",
    "    return;\n",
    "}\n",
    "typeof blank();"
   ]
  },
  {
   "cell_type": "markdown",
   "id": "ba0db650",
   "metadata": {},
   "source": [
    "2. Functions are very terretorial, like rottweiler dogs! They possess their variables exclusively"
   ]
  },
  {
   "cell_type": "code",
   "execution_count": null,
   "id": "814824d2",
   "metadata": {},
   "outputs": [],
   "source": [
    "function Rottwiler() {\n",
    "    let funcVar = \"I live here!\";\n",
    "}\n",
    "funcVar"
   ]
  },
  {
   "cell_type": "code",
   "execution_count": null,
   "id": "3a1c18cf",
   "metadata": {},
   "outputs": [],
   "source": [
    "let funcVar2 = \"I live outside!\";\n",
    "function Rottwiler() {\n",
    "    funcVar2 = \"I live inside!\";\n",
    "}\n",
    "Rottwiler();\n",
    "funcVar2"
   ]
  },
  {
   "cell_type": "code",
   "execution_count": null,
   "id": "ef266b23",
   "metadata": {},
   "outputs": [],
   "source": [
    "let funcVar = \"I live outside!\";\n",
    "function Rottwiler() {\n",
    "    let funcVar = \"I live inside!\";\n",
    "}\n",
    "funcVar"
   ]
  },
  {
   "cell_type": "markdown",
   "id": "7c0a210a",
   "metadata": {},
   "source": [
    "This is called the **function scope** and it is a very important concept to comprehend."
   ]
  },
  {
   "cell_type": "markdown",
   "id": "83e53f48",
   "metadata": {},
   "source": [
    "3. Unless you call the function, its code won't be executed, even if it's placed in a specific location."
   ]
  },
  {
   "cell_type": "code",
   "execution_count": null,
   "id": "ff461870",
   "metadata": {},
   "outputs": [],
   "source": [
    "let funcVar3 = \"I live outside!\";\n",
    "function myFunc() {\n",
    "    funcVar3 = \"I live inside!\";\n",
    "}\n",
    "\n",
    "funcVar3"
   ]
  },
  {
   "cell_type": "markdown",
   "id": "f9df4210",
   "metadata": {},
   "source": [
    "4. If you want to change the value of a global variable, do it explicitly and not as a side effect"
   ]
  },
  {
   "cell_type": "code",
   "execution_count": null,
   "id": "94657200",
   "metadata": {},
   "outputs": [],
   "source": [
    "let globalFuncVar = \"I'm global\";"
   ]
  },
  {
   "cell_type": "code",
   "execution_count": null,
   "id": "aa6709ff",
   "metadata": {},
   "outputs": [],
   "source": [
    "function changeGlobal(paramGlobalFuncVar) {\n",
    "    return (paramGlobalFuncVar + \" but modified.\");\n",
    "}\n",
    "\n",
    "globalFuncVar = changeGlobal(globalFuncVar);\n",
    "globalFuncVar"
   ]
  },
  {
   "cell_type": "markdown",
   "id": "d36dccf3",
   "metadata": {},
   "source": [
    "5. In JS, all functions are practically values"
   ]
  },
  {
   "cell_type": "code",
   "execution_count": null,
   "id": "c7e7c37f",
   "metadata": {},
   "outputs": [],
   "source": [
    "function addUs(a = 0, b = 0) {\n",
    "    return a+b;\n",
    "}\n",
    "result = addUs(1, 5);\n",
    "result;"
   ]
  },
  {
   "cell_type": "code",
   "execution_count": null,
   "id": "e47df421",
   "metadata": {},
   "outputs": [],
   "source": [
    "definition = addUs;\n",
    "definition;"
   ]
  },
  {
   "cell_type": "markdown",
   "id": "3c906554",
   "metadata": {},
   "source": [
    "So you can treat them like values (assignments, pass as arguments, etc.) - they are values representing actions. "
   ]
  },
  {
   "cell_type": "markdown",
   "id": "1594c073",
   "metadata": {},
   "source": [
    "### Function Expressions"
   ]
  },
  {
   "cell_type": "markdown",
   "id": "b78cd4de",
   "metadata": {},
   "source": [
    "Since functions are values, we can express them using variables too!"
   ]
  },
  {
   "cell_type": "code",
   "execution_count": null,
   "id": "363f6463",
   "metadata": {},
   "outputs": [],
   "source": [
    "let showNumber = function(num) {\n",
    "  console.log(`Here is your num: ${num}`);\n",
    "};"
   ]
  },
  {
   "cell_type": "code",
   "execution_count": null,
   "id": "e4494d42",
   "metadata": {},
   "outputs": [],
   "source": [
    "showNumber(8);"
   ]
  },
  {
   "cell_type": "markdown",
   "id": "817b364b",
   "metadata": {},
   "source": [
    "**Expressions live only after they are defined, like variables, unlike Function Declarations**.\n",
    "\n",
    "So, why to bother? don't generally. Unless you have a conditional dynamic function with `strict mode` JS."
   ]
  },
  {
   "cell_type": "markdown",
   "id": "3023ef07",
   "metadata": {},
   "source": [
    "#### Arrow Functions (Expressions) `=>`"
   ]
  },
  {
   "cell_type": "markdown",
   "id": "f786ddfd",
   "metadata": {},
   "source": [
    "Do you need a function that's very simple that even `{` and `}` are an overkill? Use arrow functions.\n",
    "\n",
    "Typical usecase: copying other functions or renaming."
   ]
  },
  {
   "cell_type": "code",
   "execution_count": null,
   "id": "f9d8918d",
   "metadata": {},
   "outputs": [],
   "source": [
    "let showMsg = (msg) => console.log(msg);\n",
    "showMsg(\"I'm too concise.\");"
   ]
  },
  {
   "cell_type": "code",
   "execution_count": null,
   "id": "b25caf65",
   "metadata": {},
   "outputs": [],
   "source": [
    "let showGreeting = () => console.log(\"Salute, comrade.\");\n",
    "showGreeting();"
   ]
  },
  {
   "cell_type": "markdown",
   "id": "f14c1680",
   "metadata": {},
   "source": [
    "You can still define a comples function this way..."
   ]
  },
  {
   "cell_type": "code",
   "execution_count": null,
   "id": "5501a896",
   "metadata": {},
   "outputs": [],
   "source": [
    "let complexArrow = () => {\n",
    "    let a = 1;\n",
    "    let b = a * 6;\n",
    "    console.log(`b is ${b}`);\n",
    "}\n",
    "complexArrow();"
   ]
  },
  {
   "cell_type": "markdown",
   "id": "5ff93193",
   "metadata": {},
   "source": [
    "We can make it anonymous (useful as a callback, later):"
   ]
  },
  {
   "cell_type": "code",
   "execution_count": null,
   "id": "98c6ec95",
   "metadata": {},
   "outputs": [],
   "source": [
    "let yourName = \"Rafi\";"
   ]
  },
  {
   "cell_type": "code",
   "execution_count": null,
   "id": "64aafe92",
   "metadata": {},
   "outputs": [],
   "source": [
    "yourName => console.log(\"Hi \" + yourName);"
   ]
  },
  {
   "cell_type": "markdown",
   "id": "bbcf4ee3",
   "metadata": {},
   "source": [
    "### Callback Functions"
   ]
  },
  {
   "cell_type": "markdown",
   "id": "fab58f55",
   "metadata": {},
   "source": [
    "What if I have a function, whose parameter is another function?"
   ]
  },
  {
   "cell_type": "code",
   "execution_count": null,
   "id": "ca1a66b9",
   "metadata": {},
   "outputs": [],
   "source": [
    "function processPostgres() {\n",
    "    console.log(\"I am munching on PostgreSQL in an SQL manner\");\n",
    "}\n",
    "\n",
    "function processOracle() {\n",
    "    console.log(\"I am munching on Oracle in an SQL manner\");\n",
    "}\n",
    "\n",
    "function processMongo() {\n",
    "    console.log(\"I am munging Mongo NoSQL data\");\n",
    "}\n",
    "\n",
    "function processCosmos() {\n",
    "    console.log(\"I am munging Cosmos NoSQL data\");\n",
    "}\n",
    "\n",
    "function processDB(dbType, sqlProcessor, noSqlProcessor)\n",
    "{\n",
    "    console.log(\"Processing the \" + dbType + \" Database:\");\n",
    "    \n",
    "    if(dbType === \"SQL\")\n",
    "        sqlProcessor();\n",
    "    else\n",
    "        noSqlProcessor();\n",
    "}\n",
    "\n",
    "processDB(\"NoSQL\", processOracle, processCosmos);"
   ]
  },
  {
   "cell_type": "markdown",
   "id": "fe668c1d",
   "metadata": {},
   "source": [
    "Because functions are values, we can pass them as arguments, dynamically! These are called `callback` functions.\n",
    "\n",
    "Moreover, if these functions are very specialised and have a one-time usage, we can define them **inline** as **anonymous**:"
   ]
  },
  {
   "cell_type": "code",
   "execution_count": null,
   "id": "3ca9c62b",
   "metadata": {},
   "outputs": [],
   "source": [
    "processDB(\"NoSQL\",\n",
    "          function() {console.log(\"SQL is handled..\")},\n",
    "          function() {console.log(\"NoSQL is handled.\")});"
   ]
  },
  {
   "cell_type": "markdown",
   "id": "b07371f1",
   "metadata": {},
   "source": [
    "*Remember seeing this kind of data processing callbacks in D3 pomises and `d3.json(url).then(function(data) {...});` ?*\n",
    "We can also use such callbacks for iterating over collections.."
   ]
  },
  {
   "cell_type": "code",
   "execution_count": null,
   "id": "f253dd4c",
   "metadata": {},
   "outputs": [],
   "source": [
    "let myList = [\"Ben\", \"John\", \"Frank\"];"
   ]
  },
  {
   "cell_type": "code",
   "execution_count": null,
   "id": "746b878f",
   "metadata": {},
   "outputs": [],
   "source": [
    "myList.forEach(function processData(item) {\n",
    "    console.log(\"Howdy \" + item)\n",
    "});"
   ]
  },
  {
   "cell_type": "code",
   "execution_count": null,
   "id": "d1691d0a",
   "metadata": {},
   "outputs": [],
   "source": [
    "// But the function is not needed outside the forEach, let's make it anonymous\n",
    "myList.forEach(function (item) {\n",
    "    console.log(\"Howdy \" + item)\n",
    "});"
   ]
  },
  {
   "cell_type": "code",
   "execution_count": null,
   "id": "788c4c56",
   "metadata": {},
   "outputs": [],
   "source": [
    "// But the function is too simple, let's make it anonymous arrow!\n",
    "myList.forEach(item => console.log(\"Howdy \" + item));"
   ]
  },
  {
   "cell_type": "code",
   "execution_count": null,
   "id": "ef5b7bb7",
   "metadata": {},
   "outputs": [],
   "source": [
    "// But I want even more data, let's use other parameters\n",
    "myList.forEach((item, idx, theList) => console.log(idx + \" - Howdy \" + item + \" from [\" + theList + \"]\"));"
   ]
  },
  {
   "cell_type": "markdown",
   "id": "d593fca2",
   "metadata": {},
   "source": [
    "These details are available in the documentation of the function, e.g. [here](https://developer.mozilla.org/en-US/docs/Web/JavaScript/Reference/Global_Objects/Array/forEach) for arrays."
   ]
  },
  {
   "cell_type": "markdown",
   "id": "c7f65e7b",
   "metadata": {},
   "source": [
    "---"
   ]
  }
 ],
 "metadata": {
  "kernelspec": {
   "display_name": "Javascript (Node.js)",
   "language": "javascript",
   "name": "javascript"
  },
  "language_info": {
   "file_extension": ".js",
   "mimetype": "application/javascript",
   "name": "javascript",
   "version": "14.18.0"
  }
 },
 "nbformat": 4,
 "nbformat_minor": 5
}
